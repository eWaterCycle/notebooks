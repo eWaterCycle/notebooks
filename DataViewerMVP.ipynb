{
 "cells": [
  {
   "cell_type": "code",
   "execution_count": null,
   "metadata": {},
   "outputs": [],
   "source": [
    "import warnings\n",
    "# Warnings make for ugly notebooks, ignore them\n",
    "warnings.filterwarnings('ignore')"
   ]
  },
  {
   "cell_type": "code",
   "execution_count": null,
   "metadata": {},
   "outputs": [],
   "source": [
    "import iris\n",
    "import iris.plot as iplt\n",
    "import iris.quickplot as qplt\n",
    "import matplotlib.pyplot as plt\n",
    "import numpy\n",
    "import dask"
   ]
  },
  {
   "cell_type": "code",
   "execution_count": null,
   "metadata": {},
   "outputs": [],
   "source": [
    "prec_file = '~/data/PCR-GLOBWB_input_example/RhineMeuse30min/forcing/precipitation_2001to2010.nc'\n",
    "\n",
    "prec = iris.load_cube(prec_file)\n",
    "print(prec)"
   ]
  },
  {
   "cell_type": "code",
   "execution_count": null,
   "metadata": {},
   "outputs": [],
   "source": [
    "for coord in prec.coords():\n",
    "    print(coord.name())\n",
    "    print(coord.bounds)\n",
    "    print(coord.points)"
   ]
  },
  {
   "cell_type": "code",
   "execution_count": null,
   "metadata": {},
   "outputs": [],
   "source": [
    "print(prec.units)"
   ]
  },
  {
   "cell_type": "code",
   "execution_count": null,
   "metadata": {},
   "outputs": [],
   "source": [
    "res = prec.extract(iris.Constraint(latitude=52.25, longitude=3.75))\n",
    "print(res)"
   ]
  },
  {
   "cell_type": "code",
   "execution_count": null,
   "metadata": {},
   "outputs": [],
   "source": [
    "# plot1\n",
    "\n",
    "# kies pixel/vakje (default pixel)\n",
    "# interpolatie?\n",
    "# instellen begin en einddatum\n",
    "\n",
    "iplt.plot(res[:365])\n",
    "plt.show()"
   ]
  },
  {
   "cell_type": "code",
   "execution_count": null,
   "metadata": {},
   "outputs": [],
   "source": [
    "twod = prec[0]\n",
    "\n",
    "# Add a contour, and put the result in a variable called contour.\n",
    "contour = qplt.contourf(twod)\n",
    "\n",
    "# Add coastlines to the map created by contour.\n",
    "plt.gca().coastlines()\n",
    "\n",
    "# Add contour labels based on the contour we have just created.\n",
    "plt.clabel(contour, inline=False)\n",
    "\n",
    "plt.show()"
   ]
  },
  {
   "cell_type": "code",
   "execution_count": null,
   "metadata": {},
   "outputs": [],
   "source": [
    "# plot 2\n",
    "\n",
    "import pandas as pd\n",
    "import numpy as np\n",
    "import holoviews as hv\n",
    "import geoviews as gv\n",
    "import geoviews.feature as gf\n",
    "import cartopy\n",
    "import cartopy.feature as cf\n",
    "from cartopy import crs as ccrs\n",
    "hv.notebook_extension()\n",
    "#gv.extension('bokeh')\n",
    "%output dpi=120\n",
    "\n",
    "# Assen toevoegen\n",
    "# lijntjes wit maken\n",
    "# andere kleurschaal\n",
    "# andere projectie\n",
    "# legend\n",
    "# Tijddimensie\n",
    "# dropdown om input te selecteren\n",
    "\n",
    "\n",
    "iris_dataset = gv.Dataset(prec[0], kdims=['longitude', 'latitude'], vdims=['precipitation'])\n",
    "(iris_dataset.to(gv.Image, ['longitude', 'latitude']) * gf.borders)"
   ]
  },
  {
   "cell_type": "code",
   "execution_count": null,
   "metadata": {},
   "outputs": [],
   "source": [
    "kdims = ['time', 'longitude', 'latitude']\n",
    "#kdims = ['longitude', 'latitude']\n",
    "vdims = ['precipitation']\n",
    "\n",
    "iris_dataset = gv.Dataset(prec[:365], kdims=kdims, vdims=vdims)\n",
    "print(\"Iris time type: %s\" % iris_dataset.get_dimension_type('time'))"
   ]
  },
  {
   "cell_type": "code",
   "execution_count": null,
   "metadata": {},
   "outputs": [],
   "source": [
    "gv.extension('bokeh')\n",
    "iris_dataset.to(gv.Image, ['longitude', 'latitude'])"
   ]
  }
 ],
 "metadata": {
  "language_info": {
   "name": "python",
   "pygments_lexer": "ipython3"
  }
 },
 "nbformat": 4,
 "nbformat_minor": 2
}
