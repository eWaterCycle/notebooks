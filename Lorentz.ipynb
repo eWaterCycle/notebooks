{
 "cells": [
  {
   "cell_type": "markdown",
   "metadata": {},
   "source": [
    "# Model Assesment notebook \n",
    "An example of a Model Assessment notebook. \n",
    "The notebook runs a hydrology model using [grpc4bmi](https://github.com/eWaterCycle/grpc4bmi)."
   ]
  },
  {
   "cell_type": "markdown",
   "metadata": {},
   "source": [
    "The model inside a BMI Docker container expects the datafiles in the /data/input directory,\n",
    "the config file must be adjusted to that.\n",
    "\n",
    "For PCR-GLOBWB model the input and output directory must be set with:\n",
    "\n",
    "- parameter_set.config['globalOptions']['inputDir'] = '/data/input'\n",
    "\n",
    "- parameter_set.config['globalOptions']['outputDir'] = '/data/output'\n",
    "\n",
    "For wflow model the config file must be set with: \n",
    "\n",
    "- parameter_set.config['model']['configfile'] = '/data/input/wflow_sbm.ini'\n",
    "\n",
    "- replace config.cfg in the next cells with wflow_sbm.ini\n",
    "\n",
    "For Walrus model the data file must be set with\n",
    "\n",
    "- import os; parameter_set.config['data'] = '/data/input/' + os.listdir('input')[0]\n"
   ]
  },
  {
   "cell_type": "code",
   "execution_count": null,
   "metadata": {},
   "outputs": [],
   "source": [
    "from ewatercycle.parametersetdb import build_from_urls\n",
    "import numpy as np"
   ]
  },
  {
   "cell_type": "markdown",
   "metadata": {},
   "source": [
    "### Example: PCRGLOB"
   ]
  },
  {
   "cell_type": "code",
   "execution_count": null,
   "metadata": {},
   "outputs": [],
   "source": [
    "# Prepare input\n",
    "parameter_set = build_from_urls(\n",
    "    config_format='ini', config_url='https://raw.githubusercontent.com/UU-Hydro/PCR-GLOBWB_input_example/master/RhineMeuse30min/ini_and_batch_files/rapid/setup_natural_test.ini',\n",
    "    datafiles_format='svn', datafiles_url='https://github.com/UU-Hydro/PCR-GLOBWB_input_example/RhineMeuse30min',\n",
    ")"
   ]
  },
  {
   "cell_type": "code",
   "execution_count": null,
   "metadata": {},
   "outputs": [],
   "source": [
    "parameter_set.config['globalOptions']['inputDir'] = '/data/input'\n",
    "parameter_set.config['globalOptions']['outputDir'] = '/data/output'"
   ]
  },
  {
   "cell_type": "code",
   "execution_count": null,
   "metadata": {},
   "outputs": [],
   "source": [
    "# Save config file\n",
    "parameter_set.save_config('config.cfg')"
   ]
  },
  {
   "cell_type": "markdown",
   "metadata": {},
   "source": [
    "## Run the docker container that contains (your) model. \n",
    "\n"
   ]
  },
  {
   "cell_type": "code",
   "execution_count": null,
   "metadata": {},
   "outputs": [],
   "source": [
    "from grpc4bmi.bmi_client_docker import BmiClientDocker"
   ]
  },
  {
   "cell_type": "code",
   "execution_count": null,
   "metadata": {},
   "outputs": [],
   "source": [
    "# Startup model\n",
    "model = BmiClientDocker(image='ewatercycle/pcrg-grpc4bmi:latest', image_port=55555,\n",
    "                        input_dir=\"./input\",\n",
    "                        output_dir=\"./output\")"
   ]
  },
  {
   "cell_type": "code",
   "execution_count": null,
   "metadata": {},
   "outputs": [],
   "source": [
    "model.initialize('config.cfg')"
   ]
  },
  {
   "cell_type": "markdown",
   "metadata": {},
   "source": [
    "### Assesment using GRDC\n",
    "\n",
    "The user needs to define the variable, GRDC station id, and the pixel for which to do the assessment for.\n"
   ]
  },
  {
   "cell_type": "code",
   "execution_count": null,
   "metadata": {},
   "outputs": [],
   "source": [
    "variable = \"discharge\"\n",
    "GRDC_station_id = 10\n",
    "GRDC_pixel = 144"
   ]
  },
  {
   "cell_type": "markdown",
   "metadata": {},
   "source": [
    "### Plot hydrograph for simulated and observed values and calculate statistics\n"
   ]
  },
  {
   "cell_type": "code",
   "execution_count": null,
   "metadata": {},
   "outputs": [],
   "source": [
    "hv.plot(combined,\n",
    "      title='Hydrograph of Lobith',\n",
    "      linestyles=['r-', 'k-'],\n",
    "      legend=('Simulated', 'Observed'),\n",
    "      labels=['Datetime', 'Streamflow (cms)'],\n",
    "      metrics=['ME', 'NSE', 'SA'],\n",
    "      grid=True)\n",
    "plt.show()\n"
   ]
  }
 ],
 "metadata": {
  "kernelspec": {
   "display_name": "Python 3",
   "language": "python",
   "name": "python3"
  },
  "language_info": {
   "codemirror_mode": {
    "name": "ipython",
    "version": 3
   },
   "file_extension": ".py",
   "mimetype": "text/x-python",
   "name": "python",
   "nbconvert_exporter": "python",
   "pygments_lexer": "ipython3",
   "version": "3.7.0"
  }
 },
 "nbformat": 4,
 "nbformat_minor": 2
}
