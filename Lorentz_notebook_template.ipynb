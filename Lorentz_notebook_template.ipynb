{
 "cells": [
  {
   "cell_type": "markdown",
   "metadata": {},
   "source": [
    "# Model Assesment notebook \n",
    "An example of a Model Assessment notebook. \n",
    "The notebook runs a hydrology model using [grpc4bmi](https://github.com/eWaterCycle/grpc4bmi)."
   ]
  },
  {
   "cell_type": "code",
   "execution_count": 2,
   "metadata": {},
   "outputs": [],
   "source": [
    "#Import docker and set client\n",
    "import docker\n",
    "client = docker.from_env()\n",
    "from grpc4bmi.bmi_client_docker import BmiClientDocker"
   ]
  },
  {
   "cell_type": "code",
   "execution_count": 6,
   "metadata": {},
   "outputs": [],
   "source": [
    "import os\n",
    "import time\n",
    "import datetime\n",
    "from datetime import datetime\n",
    "from datetime import timedelta\n",
    "\n",
    "import numpy as np\n",
    "import numpy.ma as ma\n",
    "import pandas as pd\n",
    "import xarray as xr\n",
    "\n",
    "import hydrostats.data as hd\n",
    "import hydrostats.visual as hv\n",
    "import matplotlib.pyplot as plt\n",
    "\n",
    "import HydroErr as he\n",
    "from ewatercycle.parametersetdb import build_from_urls"
   ]
  },
  {
   "cell_type": "markdown",
   "metadata": {},
   "source": [
    "### Setting the input and output configuration"
   ]
  },
  {
   "cell_type": "code",
   "execution_count": null,
   "metadata": {},
   "outputs": [],
   "source": [
    "parameter_set = build_from_urls(\n",
    "    config_format='ini', config_url='https://raw.githubusercontent.com/UU-Hydro/PCR-GLOBWB_input_example/master/RhineMeuse30min/ini_and_batch_files/rapid/setup_natural_test.ini',\n",
    "    datafiles_format='svn', datafiles_url='https://github.com/UU-Hydro/PCR-GLOBWB_input_example/RhineMeuse30min',\n",
    ")"
   ]
  },
  {
   "cell_type": "markdown",
   "metadata": {},
   "source": [
    "The model inside a BMI Docker container expects the datafiles in the /data/input directory,\n",
    "the config file must be adjusted to that. **Uncomment** the block of the model that you are using:\n",
    "\n",
    " - For **PCR-GLOBWB** model the input and output directory must be set with:"
   ]
  },
  {
   "cell_type": "code",
   "execution_count": null,
   "metadata": {},
   "outputs": [],
   "source": [
    "parameter_set.config['globalOptions']['inputDir'] = '/data/input'\n",
    "parameter_set.config['globalOptions']['outputDir'] = '/data/output'"
   ]
  },
  {
   "cell_type": "markdown",
   "metadata": {},
   "source": [
    "- For **wflow** model the config file must be set with: "
   ]
  },
  {
   "cell_type": "code",
   "execution_count": null,
   "metadata": {},
   "outputs": [],
   "source": [
    "#parameter_set.config['model']['configfile'] = '/data/input/wflow_sbm.ini'\n",
    "#replace config.cfg in the next cells with wflow_sbm.ini"
   ]
  },
  {
   "cell_type": "markdown",
   "metadata": {},
   "source": [
    "- For **Walrus** model the data file must be set with"
   ]
  },
  {
   "cell_type": "code",
   "execution_count": null,
   "metadata": {},
   "outputs": [],
   "source": [
    "#import os; parameter_set.config['data'] = '/data/input/' + os.listdir('input')[0]"
   ]
  },
  {
   "cell_type": "markdown",
   "metadata": {},
   "source": [
    "Then it can be saved to the config file:"
   ]
  },
  {
   "cell_type": "code",
   "execution_count": null,
   "metadata": {},
   "outputs": [],
   "source": [
    "parameter_set.save_config('config.cfg')"
   ]
  },
  {
   "cell_type": "markdown",
   "metadata": {},
   "source": [
    "### Run docker container that contains model\n",
    "\n",
    "In this example we use PCRGLOB"
   ]
  },
  {
   "cell_type": "code",
   "execution_count": 3,
   "metadata": {},
   "outputs": [],
   "source": [
    "model = BmiClientDocker(image='ewatercycle/pcrg-grpc4bmi:latest', image_port=55555, \n",
    "                       input_dir=\"./input\", \n",
    "                       output_dir=\"./output\")"
   ]
  },
  {
   "cell_type": "code",
   "execution_count": 4,
   "metadata": {},
   "outputs": [
    {
     "data": {
      "text/plain": [
       "'pcrglobwb'"
      ]
     },
     "execution_count": 4,
     "metadata": {},
     "output_type": "execute_result"
    }
   ],
   "source": [
    "model.get_component_name()"
   ]
  },
  {
   "cell_type": "code",
   "execution_count": 5,
   "metadata": {},
   "outputs": [
    {
     "name": "stdout",
     "output_type": "stream",
     "text": [
      "CPU times: user 1.61 ms, sys: 354 µs, total: 1.97 ms\n",
      "Wall time: 1.08 s\n"
     ]
    }
   ],
   "source": [
    "#Initialize the model\n",
    "%time model.initialize(\"config.cfg\")"
   ]
  },
  {
   "cell_type": "code",
   "execution_count": 6,
   "metadata": {
    "scrolled": true
   },
   "outputs": [
    {
     "data": {
      "text/plain": [
       "('groundwater_recharge',\n",
       " 'lake_and_reservoir_storage',\n",
       " 'domesticWaterConsumptionVolume',\n",
       " 'land_surface_actual_evaporation',\n",
       " 'groundwater_storage',\n",
       " 'snow_melt',\n",
       " 'totalPotentialMaximumGrossDemand',\n",
       " 'interception_evaporation',\n",
       " 'flood_innundation_depth',\n",
       " 'total_groundwater_abstraction',\n",
       " 'water_body_actual_evaporation',\n",
       " 'interflow',\n",
       " 'consumptive_water_use_for_irrigation_demand',\n",
       " 'non_irrigation_gross_demand_volume',\n",
       " 'accumulated_total_surface_runoff',\n",
       " 'livestock_water_withdrawal',\n",
       " 'land_surface_potential_evaporation',\n",
       " 'total_groundwater_storage',\n",
       " 'bare_soil_evaporation',\n",
       " 'top_water_layer_evaporation',\n",
       " 'transpiration_from_irrigation',\n",
       " 'total_thickness_of_active_water_storage',\n",
       " 'domestic_water_withdrawal',\n",
       " 'netLqWaterToSoil_at_irrigation_volume',\n",
       " 'interception_storage',\n",
       " 'non_irrigation_gross_demand',\n",
       " 'livestockWaterConsumptionVolume',\n",
       " 'groundwater_depth_for_top_layer',\n",
       " 'surface_water_storage',\n",
       " 'irrigation_gross_demand_volume',\n",
       " 'return_flow_from_irrigation_demand_withdrawal',\n",
       " 'upper_soil_storage',\n",
       " 'desalination_source_abstraction_volume',\n",
       " 'snow_free_water_evaporation',\n",
       " 'surface_water_abstraction',\n",
       " 'industryWaterConsumptionVolume',\n",
       " 'fossil_groundwater_storage',\n",
       " 'evaporation_from_irrigation_volume',\n",
       " 'total_evaporation_fraction',\n",
       " 'evaporation_from_irrigation',\n",
       " 'direct_runoff',\n",
       " 'accumulated_land_surface_baseflow',\n",
       " 'snow_free_water',\n",
       " 'total_thickness_of_water_storage',\n",
       " 'precipitation',\n",
       " 'industryWaterWithdrawalVolume',\n",
       " 'net_liquid_water_to_soil',\n",
       " 'baseflow',\n",
       " 'return_flow_from_groundwater_abstraction',\n",
       " 'bottom_elevation_of_lowermost_layer',\n",
       " 'groundwater_head_for_layer_1',\n",
       " 'return_flow_from_non_irrigation_demand_withdrawal',\n",
       " 'domesticWaterWithdrawalVolume',\n",
       " 'top_water_layer',\n",
       " 'transpiration_from_irrigation_volume',\n",
       " 'total_gross_demand_volume',\n",
       " 'top_elevation_of_uppermost_layer',\n",
       " 'fraction_of_surface_water_allocation',\n",
       " 'total_groundwater_abstraction_volume',\n",
       " 'total_transpiration',\n",
       " 'precipitation_at_irrigation_volume',\n",
       " 'lower_soil_storage',\n",
       " 'land_surface_water_balance',\n",
       " 'water_body_potential_evaporation',\n",
       " 'netLqWaterToSoil_at_irrigation',\n",
       " 'groundwater_head_for_top_layer',\n",
       " 'fraction_of_other_water_source_allocation',\n",
       " 'infiltration',\n",
       " 'consumptive_water_use_for_non_irrigation_demand',\n",
       " 'irrigation_withdrawal',\n",
       " 'lower_soil_saturation_degree',\n",
       " 'fraction_of_desalinated_water_allocation',\n",
       " 'water_body_evaporation_fraction',\n",
       " 'non_paddy_irrigation_withdrawal',\n",
       " 'total_gross_demand',\n",
       " 'groundwater_capillary_rise',\n",
       " 'non_fossil_groundwater_abstraction',\n",
       " 'land_surface_evaporation_fraction',\n",
       " 'fraction_of_non_fossil_groundwater_allocation',\n",
       " 'groundwater_head_for_layer_2',\n",
       " 'flood_innundation_volume',\n",
       " 'paddy_irrigation_withdrawal',\n",
       " 'total_evaporation',\n",
       " 'local_water_body_flux',\n",
       " 'land_surface_evaporation',\n",
       " 'channel_storage',\n",
       " 'surface_water_level',\n",
       " 'accumulated_land_surface_runoff',\n",
       " 'lower_soil_transpiration',\n",
       " 'total_volume_of_water_storage',\n",
       " 'precipitation_at_irrigation',\n",
       " 'reference_potential_evaporation',\n",
       " 'upper_soil_saturation_degree',\n",
       " 'fossil_groundwater_abstraction',\n",
       " 'land_surface_runoff',\n",
       " 'total_abstraction',\n",
       " 'test',\n",
       " 'livestockWaterWithdrawalVolume',\n",
       " 'desalination_source_abstraction',\n",
       " 'discharge',\n",
       " 'groundwater_thickness_estimate',\n",
       " 'temperature',\n",
       " 'upper_soil_transpiration',\n",
       " 'snow_water_equivalent',\n",
       " 'total_runoff',\n",
       " 'transpiration_from_irrigation',\n",
       " 'fraction_of_surface_water',\n",
       " 'bottom_elevation_of_uppermost_layer',\n",
       " 'industry_water_withdrawal',\n",
       " 'relativeGroundwaterHead',\n",
       " 'total_fraction_water_allocation',\n",
       " 'groundwater_volume_estimate',\n",
       " 'groundwater_depth_for_layer_2',\n",
       " 'irrigation_gross_demand',\n",
       " 'groundwater_depth_for_layer_1',\n",
       " 'irrigationWaterWithdrawalVolume',\n",
       " 'surface_water_abstraction_volume')"
      ]
     },
     "execution_count": 6,
     "metadata": {},
     "output_type": "execute_result"
    }
   ],
   "source": [
    "#Retrieve the ouput variable names, these variables can be retrieved for each timestep\n",
    "pcrg.get_output_var_names()"
   ]
  },
  {
   "cell_type": "code",
   "execution_count": 119,
   "metadata": {
    "scrolled": true
   },
   "outputs": [
    {
     "name": "stdout",
     "output_type": "stream",
     "text": [
      "365\n",
      "Thu Jan  1 11:08:45 1970 start\n",
      "Thu Jan  1 12:09:36 1970 end\n"
     ]
    }
   ],
   "source": [
    "#Retrieve modeltimestep information\n",
    "tstart = pcrg.get_start_time()\n",
    "tend = pcrg.get_end_time()\n",
    "tstep = pcrg.get_time_step()\n",
    "\n",
    "tstep_nmbr = int((tend - tstart)/10) # Warning: This is dependents on how the model represents time.\n",
    "print tstep_nmbr\n",
    "print time.ctime(int(tstart)) + \" start\"\n",
    "print time.ctime(int(tend)) + \" end\""
   ]
  },
  {
   "cell_type": "code",
   "execution_count": 120,
   "metadata": {},
   "outputs": [],
   "source": [
    "# I the time working is not working correctly correctly. \n",
    "# On the PCRGLOB github I do not understand why and how they get their time this way.\n",
    "# For now hardcoded."
   ]
  },
  {
   "cell_type": "code",
   "execution_count": 123,
   "metadata": {},
   "outputs": [],
   "source": [
    "#Retrieve modeltimestep information\n",
    "tstart = datetime(2000,1,1)\n",
    "tend = datetime(2010,12,31)\n",
    "\n",
    "tstep_nmbr = (tend-tstart).days"
   ]
  },
  {
   "cell_type": "code",
   "execution_count": 124,
   "metadata": {},
   "outputs": [],
   "source": [
    "#Remove for final version\n",
    "tstep_nmbr = 5"
   ]
  },
  {
   "cell_type": "code",
   "execution_count": 125,
   "metadata": {},
   "outputs": [],
   "source": [
    "#Set output variable name(s) and get shape\n",
    "variable = \"discharge\""
   ]
  },
  {
   "cell_type": "code",
   "execution_count": 126,
   "metadata": {},
   "outputs": [],
   "source": [
    "#Set correct date format that would work for all models\n",
    "date_start = tstart"
   ]
  },
  {
   "cell_type": "code",
   "execution_count": 127,
   "metadata": {},
   "outputs": [],
   "source": [
    "#Get lon/lat for xarray\n",
    "lon = pcrg.get_grid_x(0)\n",
    "lat = pcrg.get_grid_y(0)"
   ]
  },
  {
   "cell_type": "code",
   "execution_count": 128,
   "metadata": {},
   "outputs": [
    {
     "data": {
      "text/plain": [
       "<xarray.Dataset>\n",
       "Dimensions:  (lat: 17, lon: 13, time: 5)\n",
       "Coordinates:\n",
       "  * lat      (lat) float64 3.75 4.25 4.75 5.25 5.75 ... 10.25 10.75 11.25 11.75\n",
       "  * lon      (lon) float64 46.25 46.75 47.25 47.75 ... 50.75 51.25 51.75 52.25\n",
       "  * time     (time) datetime64[ns] 2000-01-01 2000-01-02 ... 2000-01-05\n",
       "Data variables:\n",
       "    *empty*"
      ]
     },
     "execution_count": 128,
     "metadata": {},
     "output_type": "execute_result"
    }
   ],
   "source": [
    "#Create xarray dataset with coordinates and time series\n",
    "ds = xr.Dataset(coords={'lon': lon,\n",
    "                        'lat': lat,\n",
    "                        'time': pd.date_range(date_start,  periods = tstep_nmbr)})\n",
    "ds"
   ]
  },
  {
   "cell_type": "code",
   "execution_count": 129,
   "metadata": {},
   "outputs": [
    {
     "data": {
      "text/plain": [
       "(13, 17, 0)"
      ]
     },
     "execution_count": 129,
     "metadata": {},
     "output_type": "execute_result"
    }
   ],
   "source": [
    "#Create empty array for faster filling\n",
    "data_variable = np.zeros(shape=(len(lon), len(lat),0))\n",
    "data_variable.shape"
   ]
  },
  {
   "cell_type": "code",
   "execution_count": null,
   "metadata": {},
   "outputs": [],
   "source": []
  },
  {
   "cell_type": "code",
   "execution_count": 130,
   "metadata": {},
   "outputs": [],
   "source": [
    "#Model run with retrieval of variables for each time step\n",
    "\n",
    "tstart = pcrg.get_start_time() # Remove after time fix\n",
    "\n",
    "for idx, i in enumerate(range(tstep_nmbr)):\n",
    "    \n",
    "    pcrg.update_until(tstart + i *tstep)\n",
    "    vals = pcrg.get_value(variable)\n",
    "    data = numpy.reshape(vals, (len(lon), len(lat)))\n",
    "\n",
    "    data_variable = np.dstack((data_variable, data))"
   ]
  },
  {
   "cell_type": "code",
   "execution_count": 131,
   "metadata": {},
   "outputs": [],
   "source": [
    "#Append variable data to xarray dataset\n",
    "ds[variable] = (('lon', 'lat', 'time'), data_variable)"
   ]
  },
  {
   "cell_type": "code",
   "execution_count": 132,
   "metadata": {},
   "outputs": [
    {
     "data": {
      "text/plain": [
       "<xarray.Dataset>\n",
       "Dimensions:    (lat: 17, lon: 13, time: 5)\n",
       "Coordinates:\n",
       "  * lat        (lat) float64 3.75 4.25 4.75 5.25 ... 10.25 10.75 11.25 11.75\n",
       "  * lon        (lon) float64 46.25 46.75 47.25 47.75 ... 50.75 51.25 51.75 52.25\n",
       "  * time       (time) datetime64[ns] 2000-01-01 2000-01-02 ... 2000-01-05\n",
       "Data variables:\n",
       "    discharge  (lon, lat, time) float64 nan nan nan nan nan ... nan nan nan nan"
      ]
     },
     "execution_count": 132,
     "metadata": {},
     "output_type": "execute_result"
    },
    {
     "data": {
      "image/png": "[encoded data removed]",
      "text/plain": [
       "<Figure size 432x288 with 2 Axes>"
      ]
     },
     "metadata": {
      "needs_background": "light"
     },
     "output_type": "display_data"
    }
   ],
   "source": [
    "#Plot variable map of time step 50\n",
    "array = ds[variable].isel(time= 2)\n",
    "array.plot()\n",
    "ds"
   ]
  },
  {
   "cell_type": "code",
   "execution_count": 161,
   "metadata": {},
   "outputs": [],
   "source": [
    "def dataframe_from_stationId(grdc_folder, station_id):\n",
    "    ''' Search the grdc_folder for a file with name <station_id>.day,\n",
    "    skip the header rows and return the dates and discharges in a dataframe'''\n",
    "    \n",
    "    filename = str(station_id) + \"_Q_Day.Cmd\"\n",
    "    grdc_file = os.path.join(grdc_folder, filename)\n",
    "\n",
    "    grdc_data = pd.read_csv(grdc_file, skiprows=40, delimiter=';')\n",
    "    \n",
    "    \n",
    "    \n",
    "    grdc_data = grdc_data.rename(columns={grdc_data.columns[0]: 'date', grdc_data.columns[1]:'empty', grdc_data.columns[2]: 'discharge'})\n",
    "    \n",
    "    grdc_data = grdc_data.reset_index().set_index(pd.DatetimeIndex(grdc_data['date']))\n",
    "    grdc_data = grdc_data[['date', 'discharge']]\n",
    "    \n",
    "    return grdc_data"
   ]
  },
  {
   "cell_type": "code",
   "execution_count": 165,
   "metadata": {},
   "outputs": [],
   "source": [
    "# Import GRDC station data, set index\n",
    "obs = dataframe_from_stationId('./validation/', 6435060)\n",
    "obs.set_index('date', inplace=True)"
   ]
  },
  {
   "cell_type": "code",
   "execution_count": 208,
   "metadata": {},
   "outputs": [],
   "source": [
    "# Select timeseries based on lat lon of GRDC station\n",
    "timeseries = ds[variable].sel(lat= 8.5, lon=50.2, method= 'nearest')\n",
    "\n",
    "sim = timeseries.to_dataframe()"
   ]
  },
  {
   "cell_type": "code",
   "execution_count": 211,
   "metadata": {},
   "outputs": [],
   "source": [
    "combined = sim.merge(obs, left_index=True, right_index=True, how='inner')\n",
    "combined.columns = ['lat', 'lon', 'sim', 'obs']\n",
    "combined = combined.drop(columns=['lat', 'lon'])"
   ]
  },
  {
   "cell_type": "code",
   "execution_count": 212,
   "metadata": {},
   "outputs": [
    {
     "data": {
      "image/png": "[encoded data removed]",
      "text/plain": [
       "<Figure size 720x432 with 1 Axes>"
      ]
     },
     "metadata": {},
     "output_type": "display_data"
    }
   ],
   "source": [
    "#Plot hydrograph for simulated and observed values and calculate statistics\n",
    "\n",
    "hv.plot(combined,\n",
    "      title='Hydrograph of Lobith',\n",
    "      linestyles=['r-', 'k-'],\n",
    "      legend=('Simulated', 'Observed'),\n",
    "      labels=['Datetime', 'Streamflow (cms)'],\n",
    "      metrics=['ME', 'NSE', 'SA'],\n",
    "      grid=True)\n",
    "plt.show()"
   ]
  },
  {
   "cell_type": "code",
   "execution_count": 213,
   "metadata": {},
   "outputs": [],
   "source": [
    "#Write output files and close model\n",
    "pcrg.finalize()"
   ]
  },
  {
   "cell_type": "code",
   "execution_count": 214,
   "metadata": {},
   "outputs": [],
   "source": [
    "#Remove pcrg\n",
    "del pcrg"
   ]
  },
  {
   "cell_type": "code",
   "execution_count": null,
   "metadata": {},
   "outputs": [],
   "source": []
  },
  {
   "cell_type": "code",
   "execution_count": null,
   "metadata": {},
   "outputs": [],
   "source": []
  }
 ],
 "metadata": {
  "kernelspec": {
   "display_name": "Python 3",
   "language": "python",
   "name": "python3"
  },
  "language_info": {
   "codemirror_mode": {
    "name": "ipython",
    "version": 3
   },
   "file_extension": ".py",
   "mimetype": "text/x-python",
   "name": "python",
   "nbconvert_exporter": "python",
   "pygments_lexer": "ipython3",
   "version": "3.6.7"
  }
 },
 "nbformat": 4,
 "nbformat_minor": 2
}
