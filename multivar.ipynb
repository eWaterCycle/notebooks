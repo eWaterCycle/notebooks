{
 "cells": [
  {
   "cell_type": "markdown",
   "metadata": {},
   "source": [
    "Load multiple variables or files of same ensembl member"
   ]
  },
  {
   "cell_type": "code",
   "execution_count": null,
   "metadata": {},
   "outputs": [],
   "source": []
  },
  {
   "cell_type": "code",
   "execution_count": 1,
   "metadata": {},
   "outputs": [],
   "source": [
    "import warnings\n",
    "# Warnings make for ugly notebooks, ignore them\n",
    "warnings.filterwarnings('ignore')"
   ]
  },
  {
   "cell_type": "code",
   "execution_count": 2,
   "metadata": {},
   "outputs": [],
   "source": [
    "import iris\n",
    "import iris.plot as iplt\n",
    "import matplotlib.pyplot as plt\n",
    "import numpy\n",
    "import dask"
   ]
  },
  {
   "cell_type": "code",
   "execution_count": 3,
   "metadata": {},
   "outputs": [
    {
     "data": {
      "text/html": [
       "\n",
       "    <div class=\"bk-root\">\n",
       "        <a href=\"https://bokeh.pydata.org\" target=\"_blank\" class=\"bk-logo bk-logo-small bk-logo-notebook\"></a>\n",
       "        <span id=\"5d7dfaea-14d6-4a43-ae9f-71a4a889d62b\">Loading BokehJS ...</span>\n",
       "    </div>"
      ]
     },
     "metadata": {},
     "output_type": "display_data"
    },
    {
     "data": {
      "application/javascript": [
       "\n",
       "(function(root) {\n",
       "  function now() {\n",
       "    return new Date();\n",
       "  }\n",
       "\n",
       "  var force = true;\n",
       "\n",
       "  if (typeof (root._bokeh_onload_callbacks) === \"undefined\" || force === true) {\n",
       "    root._bokeh_onload_callbacks = [];\n",
       "    root._bokeh_is_loading = undefined;\n",
       "  }\n",
       "\n",
       "  var JS_MIME_TYPE = 'application/javascript';\n",
       "  var HTML_MIME_TYPE = 'text/html';\n",
       "  var EXEC_MIME_TYPE = 'application/vnd.bokehjs_exec.v0+json';\n",
       "  var CLASS_NAME = 'output_bokeh rendered_html';\n",
       "\n",
       "  /**\n",
       "   * Render data to the DOM node\n",
       "   */\n",
       "  function render(props, node) {\n",
       "    var script = document.createElement(\"script\");\n",
       "    node.appendChild(script);\n",
       "  }\n",
       "\n",
       "  /**\n",
       "   * Handle when an output is cleared or removed\n",
       "   */\n",
       "  function handleClearOutput(event, handle) {\n",
       "    var cell = handle.cell;\n",
       "\n",
       "    var id = cell.output_area._bokeh_element_id;\n",
       "    var server_id = cell.output_area._bokeh_server_id;\n",
       "    // Clean up Bokeh references\n",
       "    if (id !== undefined) {\n",
       "      Bokeh.index[id].model.document.clear();\n",
       "      delete Bokeh.index[id];\n",
       "    }\n",
       "\n",
       "    if (server_id !== undefined) {\n",
       "      // Clean up Bokeh references\n",
       "      var cmd = \"from bokeh.io.state import curstate; print(curstate().uuid_to_server['\" + server_id + \"'].get_sessions()[0].document.roots[0]._id)\";\n",
       "      cell.notebook.kernel.execute(cmd, {\n",
       "        iopub: {\n",
       "          output: function(msg) {\n",
       "            var element_id = msg.content.text.trim();\n",
       "            Bokeh.index[element_id].model.document.clear();\n",
       "            delete Bokeh.index[element_id];\n",
       "          }\n",
       "        }\n",
       "      });\n",
       "      // Destroy server and session\n",
       "      var cmd = \"import bokeh.io.notebook as ion; ion.destroy_server('\" + server_id + \"')\";\n",
       "      cell.notebook.kernel.execute(cmd);\n",
       "    }\n",
       "  }\n",
       "\n",
       "  /**\n",
       "   * Handle when a new output is added\n",
       "   */\n",
       "  function handleAddOutput(event, handle) {\n",
       "    var output_area = handle.output_area;\n",
       "    var output = handle.output;\n",
       "\n",
       "    // limit handleAddOutput to display_data with EXEC_MIME_TYPE content only\n",
       "    if ((output.output_type != \"display_data\") || (!output.data.hasOwnProperty(EXEC_MIME_TYPE))) {\n",
       "      return\n",
       "    }\n",
       "\n",
       "    var toinsert = output_area.element.find(\".\" + CLASS_NAME.split(' ')[0]);\n",
       "\n",
       "    if (output.metadata[EXEC_MIME_TYPE][\"id\"] !== undefined) {\n",
       "      toinsert[0].firstChild.textContent = output.data[JS_MIME_TYPE];\n",
       "      // store reference to embed id on output_area\n",
       "      output_area._bokeh_element_id = output.metadata[EXEC_MIME_TYPE][\"id\"];\n",
       "    }\n",
       "    if (output.metadata[EXEC_MIME_TYPE][\"server_id\"] !== undefined) {\n",
       "      var bk_div = document.createElement(\"div\");\n",
       "      bk_div.innerHTML = output.data[HTML_MIME_TYPE];\n",
       "      var script_attrs = bk_div.children[0].attributes;\n",
       "      for (var i = 0; i < script_attrs.length; i++) {\n",
       "        toinsert[0].firstChild.setAttribute(script_attrs[i].name, script_attrs[i].value);\n",
       "      }\n",
       "      // store reference to server id on output_area\n",
       "      output_area._bokeh_server_id = output.metadata[EXEC_MIME_TYPE][\"server_id\"];\n",
       "    }\n",
       "  }\n",
       "\n",
       "  function register_renderer(events, OutputArea) {\n",
       "\n",
       "    function append_mime(data, metadata, element) {\n",
       "      // create a DOM node to render to\n",
       "      var toinsert = this.create_output_subarea(\n",
       "        metadata,\n",
       "        CLASS_NAME,\n",
       "        EXEC_MIME_TYPE\n",
       "      );\n",
       "      this.keyboard_manager.register_events(toinsert);\n",
       "      // Render to node\n",
       "      var props = {data: data, metadata: metadata[EXEC_MIME_TYPE]};\n",
       "      render(props, toinsert[0]);\n",
       "      element.append(toinsert);\n",
       "      return toinsert\n",
       "    }\n",
       "\n",
       "    /* Handle when an output is cleared or removed */\n",
       "    events.on('clear_output.CodeCell', handleClearOutput);\n",
       "    events.on('delete.Cell', handleClearOutput);\n",
       "\n",
       "    /* Handle when a new output is added */\n",
       "    events.on('output_added.OutputArea', handleAddOutput);\n",
       "\n",
       "    /**\n",
       "     * Register the mime type and append_mime function with output_area\n",
       "     */\n",
       "    OutputArea.prototype.register_mime_type(EXEC_MIME_TYPE, append_mime, {\n",
       "      /* Is output safe? */\n",
       "      safe: true,\n",
       "      /* Index of renderer in `output_area.display_order` */\n",
       "      index: 0\n",
       "    });\n",
       "  }\n",
       "\n",
       "  // register the mime type if in Jupyter Notebook environment and previously unregistered\n",
       "  if (root.Jupyter !== undefined) {\n",
       "    var events = require('base/js/events');\n",
       "    var OutputArea = require('notebook/js/outputarea').OutputArea;\n",
       "\n",
       "    if (OutputArea.prototype.mime_types().indexOf(EXEC_MIME_TYPE) == -1) {\n",
       "      register_renderer(events, OutputArea);\n",
       "    }\n",
       "  }\n",
       "\n",
       "  \n",
       "  if (typeof (root._bokeh_timeout) === \"undefined\" || force === true) {\n",
       "    root._bokeh_timeout = Date.now() + 5000;\n",
       "    root._bokeh_failed_load = false;\n",
       "  }\n",
       "\n",
       "  var NB_LOAD_WARNING = {'data': {'text/html':\n",
       "     \"<div style='background-color: #fdd'>\\n\"+\n",
       "     \"<p>\\n\"+\n",
       "     \"BokehJS does not appear to have successfully loaded. If loading BokehJS from CDN, this \\n\"+\n",
       "     \"may be due to a slow or bad network connection. Possible fixes:\\n\"+\n",
       "     \"</p>\\n\"+\n",
       "     \"<ul>\\n\"+\n",
       "     \"<li>re-rerun `output_notebook()` to attempt to load from CDN again, or</li>\\n\"+\n",
       "     \"<li>use INLINE resources instead, as so:</li>\\n\"+\n",
       "     \"</ul>\\n\"+\n",
       "     \"<code>\\n\"+\n",
       "     \"from bokeh.resources import INLINE\\n\"+\n",
       "     \"output_notebook(resources=INLINE)\\n\"+\n",
       "     \"</code>\\n\"+\n",
       "     \"</div>\"}};\n",
       "\n",
       "  function display_loaded() {\n",
       "    var el = document.getElementById(\"5d7dfaea-14d6-4a43-ae9f-71a4a889d62b\");\n",
       "    if (el != null) {\n",
       "      el.textContent = \"BokehJS is loading...\";\n",
       "    }\n",
       "    if (root.Bokeh !== undefined) {\n",
       "      if (el != null) {\n",
       "        el.textContent = \"BokehJS \" + root.Bokeh.version + \" successfully loaded.\";\n",
       "      }\n",
       "    } else if (Date.now() < root._bokeh_timeout) {\n",
       "      setTimeout(display_loaded, 100)\n",
       "    }\n",
       "  }\n",
       "\n",
       "\n",
       "  function run_callbacks() {\n",
       "    try {\n",
       "      root._bokeh_onload_callbacks.forEach(function(callback) { callback() });\n",
       "    }\n",
       "    finally {\n",
       "      delete root._bokeh_onload_callbacks\n",
       "    }\n",
       "    console.info(\"Bokeh: all callbacks have finished\");\n",
       "  }\n",
       "\n",
       "  function load_libs(js_urls, callback) {\n",
       "    root._bokeh_onload_callbacks.push(callback);\n",
       "    if (root._bokeh_is_loading > 0) {\n",
       "      console.log(\"Bokeh: BokehJS is being loaded, scheduling callback at\", now());\n",
       "      return null;\n",
       "    }\n",
       "    if (js_urls == null || js_urls.length === 0) {\n",
       "      run_callbacks();\n",
       "      return null;\n",
       "    }\n",
       "    console.log(\"Bokeh: BokehJS not loaded, scheduling load and callback at\", now());\n",
       "    root._bokeh_is_loading = js_urls.length;\n",
       "    for (var i = 0; i < js_urls.length; i++) {\n",
       "      var url = js_urls[i];\n",
       "      var s = document.createElement('script');\n",
       "      s.src = url;\n",
       "      s.async = false;\n",
       "      s.onreadystatechange = s.onload = function() {\n",
       "        root._bokeh_is_loading--;\n",
       "        if (root._bokeh_is_loading === 0) {\n",
       "          console.log(\"Bokeh: all BokehJS libraries loaded\");\n",
       "          run_callbacks()\n",
       "        }\n",
       "      };\n",
       "      s.onerror = function() {\n",
       "        console.warn(\"failed to load library \" + url);\n",
       "      };\n",
       "      console.log(\"Bokeh: injecting script tag for BokehJS library: \", url);\n",
       "      document.getElementsByTagName(\"head\")[0].appendChild(s);\n",
       "    }\n",
       "  };var element = document.getElementById(\"5d7dfaea-14d6-4a43-ae9f-71a4a889d62b\");\n",
       "  if (element == null) {\n",
       "    console.log(\"Bokeh: ERROR: autoload.js configured with elementid '5d7dfaea-14d6-4a43-ae9f-71a4a889d62b' but no matching script tag was found. \")\n",
       "    return false;\n",
       "  }\n",
       "\n",
       "  var js_urls = [\"https://cdn.pydata.org/bokeh/release/bokeh-0.12.14.min.js\", \"https://cdn.pydata.org/bokeh/release/bokeh-widgets-0.12.14.min.js\", \"https://cdn.pydata.org/bokeh/release/bokeh-tables-0.12.14.min.js\", \"https://cdn.pydata.org/bokeh/release/bokeh-gl-0.12.14.min.js\"];\n",
       "\n",
       "  var inline_js = [\n",
       "    function(Bokeh) {\n",
       "      Bokeh.set_log_level(\"info\");\n",
       "    },\n",
       "    \n",
       "    function(Bokeh) {\n",
       "      \n",
       "    },\n",
       "    function(Bokeh) {\n",
       "      console.log(\"Bokeh: injecting CSS: https://cdn.pydata.org/bokeh/release/bokeh-0.12.14.min.css\");\n",
       "      Bokeh.embed.inject_css(\"https://cdn.pydata.org/bokeh/release/bokeh-0.12.14.min.css\");\n",
       "      console.log(\"Bokeh: injecting CSS: https://cdn.pydata.org/bokeh/release/bokeh-widgets-0.12.14.min.css\");\n",
       "      Bokeh.embed.inject_css(\"https://cdn.pydata.org/bokeh/release/bokeh-widgets-0.12.14.min.css\");\n",
       "      console.log(\"Bokeh: injecting CSS: https://cdn.pydata.org/bokeh/release/bokeh-tables-0.12.14.min.css\");\n",
       "      Bokeh.embed.inject_css(\"https://cdn.pydata.org/bokeh/release/bokeh-tables-0.12.14.min.css\");\n",
       "    }\n",
       "  ];\n",
       "\n",
       "  function run_inline_js() {\n",
       "    \n",
       "    if ((root.Bokeh !== undefined) || (force === true)) {\n",
       "      for (var i = 0; i < inline_js.length; i++) {\n",
       "        inline_js[i].call(root, root.Bokeh);\n",
       "      }if (force === true) {\n",
       "        display_loaded();\n",
       "      }} else if (Date.now() < root._bokeh_timeout) {\n",
       "      setTimeout(run_inline_js, 100);\n",
       "    } else if (!root._bokeh_failed_load) {\n",
       "      console.log(\"Bokeh: BokehJS failed to load within specified timeout.\");\n",
       "      root._bokeh_failed_load = true;\n",
       "    } else if (force !== true) {\n",
       "      var cell = $(document.getElementById(\"5d7dfaea-14d6-4a43-ae9f-71a4a889d62b\")).parents('.cell').data().cell;\n",
       "      cell.output_area.append_execute_result(NB_LOAD_WARNING)\n",
       "    }\n",
       "\n",
       "  }\n",
       "\n",
       "  if (root._bokeh_is_loading === 0) {\n",
       "    console.log(\"Bokeh: BokehJS loaded, going straight to plotting\");\n",
       "    run_inline_js();\n",
       "  } else {\n",
       "    load_libs(js_urls, function() {\n",
       "      console.log(\"Bokeh: BokehJS plotting callback run at\", now());\n",
       "      run_inline_js();\n",
       "    });\n",
       "  }\n",
       "}(window));"
      ],
      "application/vnd.bokehjs_load.v0+json": "\n(function(root) {\n  function now() {\n    return new Date();\n  }\n\n  var force = true;\n\n  if (typeof (root._bokeh_onload_callbacks) === \"undefined\" || force === true) {\n    root._bokeh_onload_callbacks = [];\n    root._bokeh_is_loading = undefined;\n  }\n\n  \n\n  \n  if (typeof (root._bokeh_timeout) === \"undefined\" || force === true) {\n    root._bokeh_timeout = Date.now() + 5000;\n    root._bokeh_failed_load = false;\n  }\n\n  var NB_LOAD_WARNING = {'data': {'text/html':\n     \"<div style='background-color: #fdd'>\\n\"+\n     \"<p>\\n\"+\n     \"BokehJS does not appear to have successfully loaded. If loading BokehJS from CDN, this \\n\"+\n     \"may be due to a slow or bad network connection. Possible fixes:\\n\"+\n     \"</p>\\n\"+\n     \"<ul>\\n\"+\n     \"<li>re-rerun `output_notebook()` to attempt to load from CDN again, or</li>\\n\"+\n     \"<li>use INLINE resources instead, as so:</li>\\n\"+\n     \"</ul>\\n\"+\n     \"<code>\\n\"+\n     \"from bokeh.resources import INLINE\\n\"+\n     \"output_notebook(resources=INLINE)\\n\"+\n     \"</code>\\n\"+\n     \"</div>\"}};\n\n  function display_loaded() {\n    var el = document.getElementById(\"5d7dfaea-14d6-4a43-ae9f-71a4a889d62b\");\n    if (el != null) {\n      el.textContent = \"BokehJS is loading...\";\n    }\n    if (root.Bokeh !== undefined) {\n      if (el != null) {\n        el.textContent = \"BokehJS \" + root.Bokeh.version + \" successfully loaded.\";\n      }\n    } else if (Date.now() < root._bokeh_timeout) {\n      setTimeout(display_loaded, 100)\n    }\n  }\n\n\n  function run_callbacks() {\n    try {\n      root._bokeh_onload_callbacks.forEach(function(callback) { callback() });\n    }\n    finally {\n      delete root._bokeh_onload_callbacks\n    }\n    console.info(\"Bokeh: all callbacks have finished\");\n  }\n\n  function load_libs(js_urls, callback) {\n    root._bokeh_onload_callbacks.push(callback);\n    if (root._bokeh_is_loading > 0) {\n      console.log(\"Bokeh: BokehJS is being loaded, scheduling callback at\", now());\n      return null;\n    }\n    if (js_urls == null || js_urls.length === 0) {\n      run_callbacks();\n      return null;\n    }\n    console.log(\"Bokeh: BokehJS not loaded, scheduling load and callback at\", now());\n    root._bokeh_is_loading = js_urls.length;\n    for (var i = 0; i < js_urls.length; i++) {\n      var url = js_urls[i];\n      var s = document.createElement('script');\n      s.src = url;\n      s.async = false;\n      s.onreadystatechange = s.onload = function() {\n        root._bokeh_is_loading--;\n        if (root._bokeh_is_loading === 0) {\n          console.log(\"Bokeh: all BokehJS libraries loaded\");\n          run_callbacks()\n        }\n      };\n      s.onerror = function() {\n        console.warn(\"failed to load library \" + url);\n      };\n      console.log(\"Bokeh: injecting script tag for BokehJS library: \", url);\n      document.getElementsByTagName(\"head\")[0].appendChild(s);\n    }\n  };var element = document.getElementById(\"5d7dfaea-14d6-4a43-ae9f-71a4a889d62b\");\n  if (element == null) {\n    console.log(\"Bokeh: ERROR: autoload.js configured with elementid '5d7dfaea-14d6-4a43-ae9f-71a4a889d62b' but no matching script tag was found. \")\n    return false;\n  }\n\n  var js_urls = [\"https://cdn.pydata.org/bokeh/release/bokeh-0.12.14.min.js\", \"https://cdn.pydata.org/bokeh/release/bokeh-widgets-0.12.14.min.js\", \"https://cdn.pydata.org/bokeh/release/bokeh-tables-0.12.14.min.js\", \"https://cdn.pydata.org/bokeh/release/bokeh-gl-0.12.14.min.js\"];\n\n  var inline_js = [\n    function(Bokeh) {\n      Bokeh.set_log_level(\"info\");\n    },\n    \n    function(Bokeh) {\n      \n    },\n    function(Bokeh) {\n      console.log(\"Bokeh: injecting CSS: https://cdn.pydata.org/bokeh/release/bokeh-0.12.14.min.css\");\n      Bokeh.embed.inject_css(\"https://cdn.pydata.org/bokeh/release/bokeh-0.12.14.min.css\");\n      console.log(\"Bokeh: injecting CSS: https://cdn.pydata.org/bokeh/release/bokeh-widgets-0.12.14.min.css\");\n      Bokeh.embed.inject_css(\"https://cdn.pydata.org/bokeh/release/bokeh-widgets-0.12.14.min.css\");\n      console.log(\"Bokeh: injecting CSS: https://cdn.pydata.org/bokeh/release/bokeh-tables-0.12.14.min.css\");\n      Bokeh.embed.inject_css(\"https://cdn.pydata.org/bokeh/release/bokeh-tables-0.12.14.min.css\");\n    }\n  ];\n\n  function run_inline_js() {\n    \n    if ((root.Bokeh !== undefined) || (force === true)) {\n      for (var i = 0; i < inline_js.length; i++) {\n        inline_js[i].call(root, root.Bokeh);\n      }if (force === true) {\n        display_loaded();\n      }} else if (Date.now() < root._bokeh_timeout) {\n      setTimeout(run_inline_js, 100);\n    } else if (!root._bokeh_failed_load) {\n      console.log(\"Bokeh: BokehJS failed to load within specified timeout.\");\n      root._bokeh_failed_load = true;\n    } else if (force !== true) {\n      var cell = $(document.getElementById(\"5d7dfaea-14d6-4a43-ae9f-71a4a889d62b\")).parents('.cell').data().cell;\n      cell.output_area.append_execute_result(NB_LOAD_WARNING)\n    }\n\n  }\n\n  if (root._bokeh_is_loading === 0) {\n    console.log(\"Bokeh: BokehJS loaded, going straight to plotting\");\n    run_inline_js();\n  } else {\n    load_libs(js_urls, function() {\n      console.log(\"Bokeh: BokehJS plotting callback run at\", now());\n      run_inline_js();\n    });\n  }\n}(window));"
     },
     "metadata": {},
     "output_type": "display_data"
    }
   ],
   "source": [
    "from bokeh.plotting import figure, show\n",
    "from bokeh.io import output_notebook\n",
    "from bokeh.palettes import Spectral6\n",
    "output_notebook()"
   ]
  },
  {
   "cell_type": "code",
   "execution_count": 4,
   "metadata": {},
   "outputs": [],
   "source": [
    "fns = [\n",
    "    'data/2017-11-21/work01/output/netcdf/discharge_dailyTot_output.nc', \n",
    "    'data/2017-11-21/work01/output/netcdf/totalEvaporation_dailyTot_output.nc',\n",
    "    'data/2017-11-21/work01/output/netcdf/satDegUppSurface_dailyTot_output.nc',\n",
    "]"
   ]
  },
  {
   "cell_type": "code",
   "execution_count": 5,
   "metadata": {},
   "outputs": [
    {
     "data": {
      "text/plain": [
       "[<iris 'Cube' of discharge / (m3.s-1) (time: 9; latitude: 2160; longitude: 4320)>,\n",
       "<iris 'Cube' of near_surface_soil_saturation_degree / (1) (time: 9; latitude: 2160; longitude: 4320)>,\n",
       "<iris 'Cube' of total_evaporation / (m.day-1) (time: 9; latitude: 2160; longitude: 4320)>]"
      ]
     },
     "execution_count": 5,
     "metadata": {},
     "output_type": "execute_result"
    }
   ],
   "source": [
    "cubes = iris.load(fns)\n",
    "cubes"
   ]
  },
  {
   "cell_type": "code",
   "execution_count": 6,
   "metadata": {},
   "outputs": [],
   "source": [
    "alocation = [('longitude', 4.799652), ('latitude', 52.331815)]"
   ]
  },
  {
   "cell_type": "code",
   "execution_count": 7,
   "metadata": {},
   "outputs": [],
   "source": [
    "cubes_of_loc = [cube.interpolate(alocation, iris.analysis.Nearest()) for cube in cubes]"
   ]
  },
  {
   "cell_type": "markdown",
   "metadata": {},
   "source": [
    "# Draw using iris"
   ]
  },
  {
   "cell_type": "code",
   "execution_count": 8,
   "metadata": {},
   "outputs": [],
   "source": [
    "dis = cubes_of_loc[0]"
   ]
  },
  {
   "cell_type": "code",
   "execution_count": 9,
   "metadata": {},
   "outputs": [
    {
     "data": {
      "text/plain": [
       "<iris 'Cube' of discharge / (m3.s-1) (time: 9)>"
      ]
     },
     "execution_count": 9,
     "metadata": {},
     "output_type": "execute_result"
    }
   ],
   "source": [
    "dis"
   ]
  },
  {
   "cell_type": "code",
   "execution_count": 11,
   "metadata": {},
   "outputs": [
    {
     "data": {
      "text/plain": [
       "masked_array(data=[1.208240270614624, 1.1664493083953857,\n",
       "                   1.2209101915359497, 3.941112518310547,\n",
       "                   3.06866455078125, 2.125112295150757,\n",
       "                   1.8235832452774048, 1.7650593519210815,\n",
       "                   2.086449384689331],\n",
       "             mask=[False, False, False, False, False, False, False, False,\n",
       "                   False],\n",
       "       fill_value=1e+20,\n",
       "            dtype=float32)"
      ]
     },
     "execution_count": 11,
     "metadata": {},
     "output_type": "execute_result"
    }
   ],
   "source": [
    "dis.data"
   ]
  },
  {
   "cell_type": "code",
   "execution_count": 12,
   "metadata": {},
   "outputs": [
    {
     "data": {
      "text/plain": [
       "[<matplotlib.lines.Line2D at 0x7f19312f1550>]"
      ]
     },
     "execution_count": 12,
     "metadata": {},
     "output_type": "execute_result"
    },
    {
     "data": {
      "image/png": "[encoded data removed]",
      "text/plain": [
       "<Figure size 432x288 with 1 Axes>"
      ]
     },
     "metadata": {},
     "output_type": "display_data"
    }
   ],
   "source": [
    "iplt.plot(dis)"
   ]
  },
  {
   "cell_type": "markdown",
   "metadata": {},
   "source": [
    "# Draw using bokeh"
   ]
  },
  {
   "cell_type": "code",
   "execution_count": 13,
   "metadata": {},
   "outputs": [],
   "source": [
    "dts = [dt.point for dt in dis.coord('time').cells()]"
   ]
  },
  {
   "cell_type": "code",
   "execution_count": 62,
   "metadata": {},
   "outputs": [
    {
     "data": {
      "text/html": [
       "\n",
       "<div class=\"bk-root\">\n",
       "    <div class=\"bk-plotdiv\" id=\"a10bf424-587d-4345-8893-f64a2e7525af\"></div>\n",
       "</div>"
      ]
     },
     "metadata": {},
     "output_type": "display_data"
    },
    {
     "data": {
      "application/javascript": [
       "(function(root) {\n",
       "  function embed_document(root) {\n",
       "    \n",
       "  var docs_json = {\"317c45d6-dff7-4d63-8f54-1504401f4d64\":{\"roots\":{\"references\":[{\"attributes\":{\"dimension\":1,\"plot\":{\"id\":\"df5c4374-9f1d-4809-a685-9af18bbb119f\",\"subtype\":\"Figure\",\"type\":\"Plot\"},\"ticker\":{\"id\":\"44901db2-a17a-40f6-83db-914e5acbb014\",\"type\":\"BasicTicker\"}},\"id\":\"07e34b6a-6b1c-49ec-b784-f7aef6907aba\",\"type\":\"Grid\"},{\"attributes\":{\"callback\":null},\"id\":\"b1ac5845-35b3-40c3-9e25-1ae64f0b236e\",\"type\":\"DataRange1d\"},{\"attributes\":{\"months\":[0,1,2,3,4,5,6,7,8,9,10,11]},\"id\":\"21a95c96-722e-4989-a42a-848366e8b2a1\",\"type\":\"MonthsTicker\"},{\"attributes\":{\"below\":[{\"id\":\"a6e58b32-e142-42e3-ab82-c5ed10189fec\",\"type\":\"DatetimeAxis\"}],\"left\":[{\"id\":\"31eceb9f-f2fd-4fa4-9b70-07cb111961dd\",\"type\":\"LinearAxis\"}],\"output_backend\":\"webgl\",\"renderers\":[{\"id\":\"a6e58b32-e142-42e3-ab82-c5ed10189fec\",\"type\":\"DatetimeAxis\"},{\"id\":\"ef0fb30d-1895-42bd-a6cf-bd0005a59d72\",\"type\":\"Grid\"},{\"id\":\"31eceb9f-f2fd-4fa4-9b70-07cb111961dd\",\"type\":\"LinearAxis\"},{\"id\":\"07e34b6a-6b1c-49ec-b784-f7aef6907aba\",\"type\":\"Grid\"},{\"id\":\"5508cb34-8527-4016-b605-e0807f8f805a\",\"type\":\"BoxAnnotation\"},{\"id\":\"efc6caea-2ea0-42b2-b176-8feab6b58f3e\",\"type\":\"Legend\"},{\"id\":\"47c6677f-43d0-4f6c-8bc3-cf9991b74cbc\",\"type\":\"GlyphRenderer\"},{\"id\":\"f13b9e20-8cb2-4279-a3f0-e4a14d5b1b6f\",\"type\":\"GlyphRenderer\"},{\"id\":\"97d539f2-cd29-4592-ae33-0dcb6b1121cf\",\"type\":\"GlyphRenderer\"}],\"title\":{\"id\":\"125be746-1bfa-48b9-99b6-11339461cacd\",\"type\":\"Title\"},\"toolbar\":{\"id\":\"ed077ec4-dc0e-4270-bd2a-1dcdc685db9f\",\"type\":\"Toolbar\"},\"x_range\":{\"id\":\"b17fe9f7-3945-4fe7-acb2-17505f68fe95\",\"type\":\"DataRange1d\"},\"x_scale\":{\"id\":\"50fce6d1-c76d-4470-9cb7-940502bdb5dd\",\"type\":\"LinearScale\"},\"y_range\":{\"id\":\"b1ac5845-35b3-40c3-9e25-1ae64f0b236e\",\"type\":\"DataRange1d\"},\"y_scale\":{\"id\":\"74693802-4b37-4e69-83c1-8bc361a28257\",\"type\":\"LinearScale\"}},\"id\":\"df5c4374-9f1d-4809-a685-9af18bbb119f\",\"subtype\":\"Figure\",\"type\":\"Plot\"},{\"attributes\":{\"formatter\":{\"id\":\"e2c66d44-1846-42dd-861f-75563984fa1b\",\"type\":\"BasicTickFormatter\"},\"plot\":{\"id\":\"df5c4374-9f1d-4809-a685-9af18bbb119f\",\"subtype\":\"Figure\",\"type\":\"Plot\"},\"ticker\":{\"id\":\"44901db2-a17a-40f6-83db-914e5acbb014\",\"type\":\"BasicTicker\"}},\"id\":\"31eceb9f-f2fd-4fa4-9b70-07cb111961dd\",\"type\":\"LinearAxis\"},{\"attributes\":{\"months\":[0,4,8]},\"id\":\"83bf2326-2015-4606-912e-32ffdc6363ee\",\"type\":\"MonthsTicker\"},{\"attributes\":{\"bottom_units\":\"screen\",\"fill_alpha\":{\"value\":0.5},\"fill_color\":{\"value\":\"lightgrey\"},\"left_units\":\"screen\",\"level\":\"overlay\",\"line_alpha\":{\"value\":1.0},\"line_color\":{\"value\":\"black\"},\"line_dash\":[4,4],\"line_width\":{\"value\":2},\"plot\":null,\"render_mode\":\"css\",\"right_units\":\"screen\",\"top_units\":\"screen\"},\"id\":\"5508cb34-8527-4016-b605-e0807f8f805a\",\"type\":\"BoxAnnotation\"},{\"attributes\":{},\"id\":\"50fce6d1-c76d-4470-9cb7-940502bdb5dd\",\"type\":\"LinearScale\"},{\"attributes\":{},\"id\":\"20f9033e-8ddd-4003-be41-69ef3693d364\",\"type\":\"SaveTool\"},{\"attributes\":{\"plot\":null,\"text\":\"\"},\"id\":\"125be746-1bfa-48b9-99b6-11339461cacd\",\"type\":\"Title\"},{\"attributes\":{\"callback\":null,\"column_names\":[\"x\",\"y\"],\"data\":{\"x\":[1511222400000.0,1511308800000.0,1511395200000.0,1511481600000.0,1511568000000.0,1511654400000.0,1511740800000.0,1511827200000.0,1511913600000.0],\"y\":{\"__ndarray__\":\"nqeaPzZOlT/JRpw/MDt8QABlREDXAQhALWvpP3ft4T9jiAVA\",\"dtype\":\"float32\",\"shape\":[9]}}},\"id\":\"bbd3a9e9-5fd4-430b-b73f-52e9d538ba3e\",\"type\":\"ColumnDataSource\"},{\"attributes\":{\"callback\":null},\"id\":\"b17fe9f7-3945-4fe7-acb2-17505f68fe95\",\"type\":\"DataRange1d\"},{\"attributes\":{\"source\":{\"id\":\"baad0563-808c-4a11-a4da-76df50e6a830\",\"type\":\"ColumnDataSource\"}},\"id\":\"9038d93d-b605-49d6-8130-6452b57b552a\",\"type\":\"CDSView\"},{\"attributes\":{},\"id\":\"de0c4d91-ce5a-42c2-9580-1cbff7907ba5\",\"type\":\"WheelZoomTool\"},{\"attributes\":{},\"id\":\"69233885-723b-4a13-9625-fef419c6ca8e\",\"type\":\"DatetimeTickFormatter\"},{\"attributes\":{},\"id\":\"74693802-4b37-4e69-83c1-8bc361a28257\",\"type\":\"LinearScale\"},{\"attributes\":{\"source\":{\"id\":\"bbd3a9e9-5fd4-430b-b73f-52e9d538ba3e\",\"type\":\"ColumnDataSource\"}},\"id\":\"9e1ee8b4-b29d-4adb-8a67-fb3eeea5e3b3\",\"type\":\"CDSView\"},{\"attributes\":{\"days\":[1,2,3,4,5,6,7,8,9,10,11,12,13,14,15,16,17,18,19,20,21,22,23,24,25,26,27,28,29,30,31]},\"id\":\"cb46d16e-1883-4268-8842-1bb92db5d449\",\"type\":\"DaysTicker\"},{\"attributes\":{},\"id\":\"44901db2-a17a-40f6-83db-914e5acbb014\",\"type\":\"BasicTicker\"},{\"attributes\":{\"callback\":null,\"column_names\":[\"x\",\"y\"],\"data\":{\"x\":[1511222400000.0,1511308800000.0,1511395200000.0,1511481600000.0,1511568000000.0,1511654400000.0,1511740800000.0,1511827200000.0,1511913600000.0],\"y\":{\"__ndarray__\":\"YaYvPw5dKz9Aziw/SqJ5P9PILT+RKkQ/1WYnP/HZRj+8R2A/\",\"dtype\":\"float32\",\"shape\":[9]}}},\"id\":\"baad0563-808c-4a11-a4da-76df50e6a830\",\"type\":\"ColumnDataSource\"},{\"attributes\":{\"base\":24,\"mantissas\":[1,2,4,6,8,12],\"max_interval\":43200000.0,\"min_interval\":3600000.0,\"num_minor_ticks\":0},\"id\":\"257b4a21-ce78-4646-af2b-174f09c8bd78\",\"type\":\"AdaptiveTicker\"},{\"attributes\":{\"callback\":null,\"column_names\":[\"x\",\"y\"],\"data\":{\"x\":[1511222400000.0,1511308800000.0,1511395200000.0,1511481600000.0,1511568000000.0,1511654400000.0,1511740800000.0,1511827200000.0,1511913600000.0],\"y\":{\"__ndarray__\":\"xy8nOsZFKTp4SDs6X1MqOtfeHzpgtuo5T0+2Oal/5zmyRS06\",\"dtype\":\"float32\",\"shape\":[9]}}},\"id\":\"5427f36b-1f28-4cab-a838-6c5ea6ba4d90\",\"type\":\"ColumnDataSource\"},{\"attributes\":{\"active_drag\":\"auto\",\"active_inspect\":\"auto\",\"active_scroll\":\"auto\",\"active_tap\":\"auto\",\"tools\":[{\"id\":\"66698b8e-4f60-4f0e-bc3d-7cb701597b4b\",\"type\":\"PanTool\"},{\"id\":\"de0c4d91-ce5a-42c2-9580-1cbff7907ba5\",\"type\":\"WheelZoomTool\"},{\"id\":\"d2da0302-95e4-4338-a530-7cef4590a98b\",\"type\":\"BoxZoomTool\"},{\"id\":\"20f9033e-8ddd-4003-be41-69ef3693d364\",\"type\":\"SaveTool\"},{\"id\":\"cb07d8bb-57fd-4228-80d0-1508f4c0a067\",\"type\":\"ResetTool\"},{\"id\":\"626a8daa-227a-4011-8f68-f9b7de66c8a3\",\"type\":\"HelpTool\"}]},\"id\":\"ed077ec4-dc0e-4270-bd2a-1dcdc685db9f\",\"type\":\"Toolbar\"},{\"attributes\":{\"label\":{\"value\":\"near_surface_soil_saturation_degree\"},\"renderers\":[{\"id\":\"f13b9e20-8cb2-4279-a3f0-e4a14d5b1b6f\",\"type\":\"GlyphRenderer\"}]},\"id\":\"8559b29c-2019-48f7-81b7-34b849035b65\",\"type\":\"LegendItem\"},{\"attributes\":{\"formatter\":{\"id\":\"69233885-723b-4a13-9625-fef419c6ca8e\",\"type\":\"DatetimeTickFormatter\"},\"plot\":{\"id\":\"df5c4374-9f1d-4809-a685-9af18bbb119f\",\"subtype\":\"Figure\",\"type\":\"Plot\"},\"ticker\":{\"id\":\"ba03d0ac-15a2-435a-ac5f-51c2ae0a02e4\",\"type\":\"DatetimeTicker\"}},\"id\":\"a6e58b32-e142-42e3-ab82-c5ed10189fec\",\"type\":\"DatetimeAxis\"},{\"attributes\":{\"line_alpha\":0.1,\"line_color\":\"#1f77b4\",\"x\":{\"field\":\"x\"},\"y\":{\"field\":\"y\"}},\"id\":\"d260ed21-9dbc-4884-ab59-9c98d8a84485\",\"type\":\"Line\"},{\"attributes\":{\"days\":[1,4,7,10,13,16,19,22,25,28]},\"id\":\"747e7c6f-f0d0-4796-8661-3eb4a774473b\",\"type\":\"DaysTicker\"},{\"attributes\":{\"num_minor_ticks\":5,\"tickers\":[{\"id\":\"2af39298-0dad-407d-b18e-3864e5c58f77\",\"type\":\"AdaptiveTicker\"},{\"id\":\"f465508c-d294-4902-9e6b-d3f3dfcfcb5e\",\"type\":\"AdaptiveTicker\"},{\"id\":\"257b4a21-ce78-4646-af2b-174f09c8bd78\",\"type\":\"AdaptiveTicker\"},{\"id\":\"cb46d16e-1883-4268-8842-1bb92db5d449\",\"type\":\"DaysTicker\"},{\"id\":\"747e7c6f-f0d0-4796-8661-3eb4a774473b\",\"type\":\"DaysTicker\"},{\"id\":\"f5e5f07f-5d51-4477-b978-471f926b578b\",\"type\":\"DaysTicker\"},{\"id\":\"ccc4c5a4-bb38-49b6-a8d9-1b8072c126bd\",\"type\":\"DaysTicker\"},{\"id\":\"21a95c96-722e-4989-a42a-848366e8b2a1\",\"type\":\"MonthsTicker\"},{\"id\":\"e41c9d3a-d405-4e8a-9a27-f731dcb66941\",\"type\":\"MonthsTicker\"},{\"id\":\"83bf2326-2015-4606-912e-32ffdc6363ee\",\"type\":\"MonthsTicker\"},{\"id\":\"7de034ec-ee9c-4c92-b598-f1a5ed37a951\",\"type\":\"MonthsTicker\"},{\"id\":\"7cda9649-a6be-4705-931d-e5eed30fde43\",\"type\":\"YearsTicker\"}]},\"id\":\"ba03d0ac-15a2-435a-ac5f-51c2ae0a02e4\",\"type\":\"DatetimeTicker\"},{\"attributes\":{\"label\":{\"value\":\"discharge\"},\"renderers\":[{\"id\":\"47c6677f-43d0-4f6c-8bc3-cf9991b74cbc\",\"type\":\"GlyphRenderer\"}]},\"id\":\"f8b7e18e-1c6a-4913-b076-ee1e530bb8ed\",\"type\":\"LegendItem\"},{\"attributes\":{\"data_source\":{\"id\":\"baad0563-808c-4a11-a4da-76df50e6a830\",\"type\":\"ColumnDataSource\"},\"glyph\":{\"id\":\"2cb30e00-8326-40d9-9896-da98f9269462\",\"type\":\"Line\"},\"hover_glyph\":null,\"muted_glyph\":null,\"nonselection_glyph\":{\"id\":\"d260ed21-9dbc-4884-ab59-9c98d8a84485\",\"type\":\"Line\"},\"selection_glyph\":null,\"view\":{\"id\":\"9038d93d-b605-49d6-8130-6452b57b552a\",\"type\":\"CDSView\"}},\"id\":\"f13b9e20-8cb2-4279-a3f0-e4a14d5b1b6f\",\"type\":\"GlyphRenderer\"},{\"attributes\":{\"overlay\":{\"id\":\"5508cb34-8527-4016-b605-e0807f8f805a\",\"type\":\"BoxAnnotation\"}},\"id\":\"d2da0302-95e4-4338-a530-7cef4590a98b\",\"type\":\"BoxZoomTool\"},{\"attributes\":{\"line_color\":\"#e6f598\",\"x\":{\"field\":\"x\"},\"y\":{\"field\":\"y\"}},\"id\":\"694f5983-38b0-4e15-b44f-ee2ec9142044\",\"type\":\"Line\"},{\"attributes\":{\"line_color\":\"#99d594\",\"x\":{\"field\":\"x\"},\"y\":{\"field\":\"y\"}},\"id\":\"2cb30e00-8326-40d9-9896-da98f9269462\",\"type\":\"Line\"},{\"attributes\":{},\"id\":\"626a8daa-227a-4011-8f68-f9b7de66c8a3\",\"type\":\"HelpTool\"},{\"attributes\":{\"items\":[{\"id\":\"f8b7e18e-1c6a-4913-b076-ee1e530bb8ed\",\"type\":\"LegendItem\"},{\"id\":\"8559b29c-2019-48f7-81b7-34b849035b65\",\"type\":\"LegendItem\"},{\"id\":\"3971baab-2a08-49f6-85b7-6d506d7e88a2\",\"type\":\"LegendItem\"}],\"plot\":{\"id\":\"df5c4374-9f1d-4809-a685-9af18bbb119f\",\"subtype\":\"Figure\",\"type\":\"Plot\"}},\"id\":\"efc6caea-2ea0-42b2-b176-8feab6b58f3e\",\"type\":\"Legend\"},{\"attributes\":{},\"id\":\"7cda9649-a6be-4705-931d-e5eed30fde43\",\"type\":\"YearsTicker\"},{\"attributes\":{\"base\":60,\"mantissas\":[1,2,5,10,15,20,30],\"max_interval\":1800000.0,\"min_interval\":1000.0,\"num_minor_ticks\":0},\"id\":\"f465508c-d294-4902-9e6b-d3f3dfcfcb5e\",\"type\":\"AdaptiveTicker\"},{\"attributes\":{\"days\":[1,15]},\"id\":\"ccc4c5a4-bb38-49b6-a8d9-1b8072c126bd\",\"type\":\"DaysTicker\"},{\"attributes\":{\"plot\":{\"id\":\"df5c4374-9f1d-4809-a685-9af18bbb119f\",\"subtype\":\"Figure\",\"type\":\"Plot\"},\"ticker\":{\"id\":\"ba03d0ac-15a2-435a-ac5f-51c2ae0a02e4\",\"type\":\"DatetimeTicker\"}},\"id\":\"ef0fb30d-1895-42bd-a6cf-bd0005a59d72\",\"type\":\"Grid\"},{\"attributes\":{\"months\":[0,6]},\"id\":\"7de034ec-ee9c-4c92-b598-f1a5ed37a951\",\"type\":\"MonthsTicker\"},{\"attributes\":{\"days\":[1,8,15,22]},\"id\":\"f5e5f07f-5d51-4477-b978-471f926b578b\",\"type\":\"DaysTicker\"},{\"attributes\":{},\"id\":\"cb07d8bb-57fd-4228-80d0-1508f4c0a067\",\"type\":\"ResetTool\"},{\"attributes\":{\"line_alpha\":0.1,\"line_color\":\"#1f77b4\",\"x\":{\"field\":\"x\"},\"y\":{\"field\":\"y\"}},\"id\":\"ffb5c883-1637-403b-ab52-19bc85d7f6a2\",\"type\":\"Line\"},{\"attributes\":{},\"id\":\"66698b8e-4f60-4f0e-bc3d-7cb701597b4b\",\"type\":\"PanTool\"},{\"attributes\":{\"data_source\":{\"id\":\"bbd3a9e9-5fd4-430b-b73f-52e9d538ba3e\",\"type\":\"ColumnDataSource\"},\"glyph\":{\"id\":\"ee17b1ee-5672-4794-888b-169386ef64fc\",\"type\":\"Line\"},\"hover_glyph\":null,\"muted_glyph\":null,\"nonselection_glyph\":{\"id\":\"02dbce03-ce61-4030-a3f1-f40cbd151d0a\",\"type\":\"Line\"},\"selection_glyph\":null,\"view\":{\"id\":\"9e1ee8b4-b29d-4adb-8a67-fb3eeea5e3b3\",\"type\":\"CDSView\"}},\"id\":\"47c6677f-43d0-4f6c-8bc3-cf9991b74cbc\",\"type\":\"GlyphRenderer\"},{\"attributes\":{\"label\":{\"value\":\"total_evaporation\"},\"renderers\":[{\"id\":\"97d539f2-cd29-4592-ae33-0dcb6b1121cf\",\"type\":\"GlyphRenderer\"}]},\"id\":\"3971baab-2a08-49f6-85b7-6d506d7e88a2\",\"type\":\"LegendItem\"},{\"attributes\":{\"months\":[0,2,4,6,8,10]},\"id\":\"e41c9d3a-d405-4e8a-9a27-f731dcb66941\",\"type\":\"MonthsTicker\"},{\"attributes\":{\"mantissas\":[1,2,5],\"max_interval\":500.0,\"num_minor_ticks\":0},\"id\":\"2af39298-0dad-407d-b18e-3864e5c58f77\",\"type\":\"AdaptiveTicker\"},{\"attributes\":{},\"id\":\"e2c66d44-1846-42dd-861f-75563984fa1b\",\"type\":\"BasicTickFormatter\"},{\"attributes\":{\"line_alpha\":0.1,\"line_color\":\"#1f77b4\",\"x\":{\"field\":\"x\"},\"y\":{\"field\":\"y\"}},\"id\":\"02dbce03-ce61-4030-a3f1-f40cbd151d0a\",\"type\":\"Line\"},{\"attributes\":{\"data_source\":{\"id\":\"5427f36b-1f28-4cab-a838-6c5ea6ba4d90\",\"type\":\"ColumnDataSource\"},\"glyph\":{\"id\":\"694f5983-38b0-4e15-b44f-ee2ec9142044\",\"type\":\"Line\"},\"hover_glyph\":null,\"muted_glyph\":null,\"nonselection_glyph\":{\"id\":\"ffb5c883-1637-403b-ab52-19bc85d7f6a2\",\"type\":\"Line\"},\"selection_glyph\":null,\"view\":{\"id\":\"b85bb8ec-5cfd-4659-8143-46b7499b5743\",\"type\":\"CDSView\"}},\"id\":\"97d539f2-cd29-4592-ae33-0dcb6b1121cf\",\"type\":\"GlyphRenderer\"},{\"attributes\":{\"line_color\":\"#3288bd\",\"x\":{\"field\":\"x\"},\"y\":{\"field\":\"y\"}},\"id\":\"ee17b1ee-5672-4794-888b-169386ef64fc\",\"type\":\"Line\"},{\"attributes\":{\"source\":{\"id\":\"5427f36b-1f28-4cab-a838-6c5ea6ba4d90\",\"type\":\"ColumnDataSource\"}},\"id\":\"b85bb8ec-5cfd-4659-8143-46b7499b5743\",\"type\":\"CDSView\"}],\"root_ids\":[\"df5c4374-9f1d-4809-a685-9af18bbb119f\"]},\"title\":\"Bokeh Application\",\"version\":\"0.12.14\"}};\n",
       "  var render_items = [{\"docid\":\"317c45d6-dff7-4d63-8f54-1504401f4d64\",\"elementid\":\"a10bf424-587d-4345-8893-f64a2e7525af\",\"modelid\":\"df5c4374-9f1d-4809-a685-9af18bbb119f\"}];\n",
       "  root.Bokeh.embed.embed_items_notebook(docs_json, render_items);\n",
       "\n",
       "  }\n",
       "  if (root.Bokeh !== undefined) {\n",
       "    embed_document(root);\n",
       "  } else {\n",
       "    var attempts = 0;\n",
       "    var timer = setInterval(function(root) {\n",
       "      if (root.Bokeh !== undefined) {\n",
       "        embed_document(root);\n",
       "        clearInterval(timer);\n",
       "      }\n",
       "      attempts++;\n",
       "      if (attempts > 100) {\n",
       "        console.log(\"Bokeh: ERROR: Unable to run BokehJS code because BokehJS library is missing\")\n",
       "        clearInterval(timer);\n",
       "      }\n",
       "    }, 10, root)\n",
       "  }\n",
       "})(window);"
      ],
      "application/vnd.bokehjs_exec.v0+json": ""
     },
     "metadata": {
      "application/vnd.bokehjs_exec.v0+json": {
       "id": "df5c4374-9f1d-4809-a685-9af18bbb119f"
      }
     },
     "output_type": "display_data"
    }
   ],
   "source": [
    "p = figure(x_axis_type='datetime', output_backend=\"webgl\")\n",
    "[p.line(dts, cube.data, legend=cube.name(), color=Spectral6[i]) for i, cube in enumerate(cubes_of_loc)]\n",
    "show(p)"
   ]
  },
  {
   "cell_type": "code",
   "execution_count": 14,
   "metadata": {},
   "outputs": [
    {
     "data": {
      "text/html": [
       "\n",
       "<div class=\"bk-root\">\n",
       "    <div class=\"bk-plotdiv\" id=\"a95ac0bb-a8f9-49cc-a561-a176f7caf6f0\"></div>\n",
       "</div>"
      ]
     },
     "metadata": {},
     "output_type": "display_data"
    },
    {
     "data": {
      "application/javascript": [
       "(function(root) {\n",
       "  function embed_document(root) {\n",
       "    \n",
       "  var docs_json = {\"1c401b51-8a8f-49b0-a77a-3b74b71c8c68\":{\"roots\":{\"references\":[{\"attributes\":{\"callback\":null,\"column_names\":[\"x\",\"y\"],\"data\":{\"x\":[1511222400000.0,1511308800000.0,1511395200000.0,1511481600000.0,1511568000000.0,1511654400000.0,1511740800000.0,1511827200000.0,1511913600000.0],\"y\":{\"__ndarray__\":\"YaYvPw5dKz9Aziw/SqJ5P9PILT+RKkQ/1WYnP/HZRj+8R2A/\",\"dtype\":\"float32\",\"shape\":[9]}}},\"id\":\"22b67822-a702-42de-a6d7-4ae219cb2990\",\"type\":\"ColumnDataSource\"},{\"attributes\":{},\"id\":\"6b29dcfe-6395-41f8-845d-118735000091\",\"type\":\"YearsTicker\"},{\"attributes\":{\"data_source\":{\"id\":\"653ec184-19d1-4439-b71e-ba3aded8b084\",\"type\":\"ColumnDataSource\"},\"glyph\":{\"id\":\"9f039c87-15ba-41fc-96b3-dbd6bc445f43\",\"type\":\"Line\"},\"hover_glyph\":null,\"muted_glyph\":null,\"nonselection_glyph\":{\"id\":\"f310462c-c8a1-440d-9506-840d7e026d5f\",\"type\":\"Line\"},\"selection_glyph\":null,\"view\":{\"id\":\"919cd151-e6fc-41c7-b715-4b8ef053391c\",\"type\":\"CDSView\"}},\"id\":\"c7be3284-c53c-453e-9e88-a286da5cb4fd\",\"type\":\"GlyphRenderer\"},{\"attributes\":{},\"id\":\"e03d2a76-7478-4e96-9877-155db09f5e05\",\"type\":\"LinearScale\"},{\"attributes\":{\"line_alpha\":0.1,\"line_color\":\"#1f77b4\",\"x\":{\"field\":\"x\"},\"y\":{\"field\":\"y\"}},\"id\":\"f310462c-c8a1-440d-9506-840d7e026d5f\",\"type\":\"Line\"},{\"attributes\":{\"days\":[1,8,15,22]},\"id\":\"a38abfaf-b7f0-441f-9caf-1441fb77f0f5\",\"type\":\"DaysTicker\"},{\"attributes\":{\"months\":[0,4,8]},\"id\":\"3619fca3-3d8c-4e0a-95f8-0e2ce3544c3e\",\"type\":\"MonthsTicker\"},{\"attributes\":{\"callback\":null},\"id\":\"7e3859d2-ec64-42d2-a420-3549e3d2c022\",\"type\":\"DataRange1d\"},{\"attributes\":{},\"id\":\"2d007b43-1d9f-4690-8d25-0a672a4912a6\",\"type\":\"BasicTickFormatter\"},{\"attributes\":{\"active_drag\":\"auto\",\"active_inspect\":\"auto\",\"active_scroll\":\"auto\",\"active_tap\":\"auto\",\"tools\":[{\"id\":\"9ce3a0ff-306b-4467-a6d8-007ee8dc5b59\",\"type\":\"PanTool\"},{\"id\":\"f9958ef7-6421-4a41-a414-9ebbec9f4909\",\"type\":\"WheelZoomTool\"},{\"id\":\"f60acd4e-a727-4f1b-926a-c051b967abd3\",\"type\":\"BoxZoomTool\"},{\"id\":\"7a9f514c-a3cb-48b4-88b4-f2d89bdc752b\",\"type\":\"SaveTool\"},{\"id\":\"739a3de8-554a-46a8-9103-af4bc974ffa0\",\"type\":\"ResetTool\"},{\"id\":\"b7b0b2a2-b452-4a46-8f5a-60081d5781b4\",\"type\":\"HelpTool\"}]},\"id\":\"db20c25c-ac50-4256-9922-e98fd86d8fe5\",\"type\":\"Toolbar\"},{\"attributes\":{},\"id\":\"8cc9bf59-61f4-4751-84fd-6ab455cd3a4c\",\"type\":\"DatetimeTickFormatter\"},{\"attributes\":{\"overlay\":{\"id\":\"d25a2728-3ece-4104-82f0-adad810c042a\",\"type\":\"BoxAnnotation\"}},\"id\":\"f60acd4e-a727-4f1b-926a-c051b967abd3\",\"type\":\"BoxZoomTool\"},{\"attributes\":{},\"id\":\"9b45b4b9-5507-40cf-8a70-e4ba316afb31\",\"type\":\"BasicTicker\"},{\"attributes\":{\"months\":[0,6]},\"id\":\"8a773b94-6591-4801-9ae3-f57a2cf6de96\",\"type\":\"MonthsTicker\"},{\"attributes\":{\"label\":{\"value\":\"discharge\"},\"renderers\":[{\"id\":\"c7be3284-c53c-453e-9e88-a286da5cb4fd\",\"type\":\"GlyphRenderer\"}]},\"id\":\"711a019b-f458-44bb-b50c-2c470c3bb6e0\",\"type\":\"LegendItem\"},{\"attributes\":{\"num_minor_ticks\":5,\"tickers\":[{\"id\":\"041a110d-b55f-45a8-8ee4-480d758ba098\",\"type\":\"AdaptiveTicker\"},{\"id\":\"4f646227-4b4f-4f3c-b3b8-ccc7e2c68268\",\"type\":\"AdaptiveTicker\"},{\"id\":\"2cd6aa72-be74-48c0-81ef-ad4c306fb71e\",\"type\":\"AdaptiveTicker\"},{\"id\":\"98d52d9e-b496-4216-895c-6feff64d9c46\",\"type\":\"DaysTicker\"},{\"id\":\"d51409a8-38df-4b6c-9002-37a48e2572f4\",\"type\":\"DaysTicker\"},{\"id\":\"a38abfaf-b7f0-441f-9caf-1441fb77f0f5\",\"type\":\"DaysTicker\"},{\"id\":\"8df1b40c-50ff-4f80-a5e2-0f1b6f8e5086\",\"type\":\"DaysTicker\"},{\"id\":\"0165878f-946f-470a-9816-2e1ebe40c1a7\",\"type\":\"MonthsTicker\"},{\"id\":\"d8bb518c-2380-402e-9a29-af2e3eeb0a19\",\"type\":\"MonthsTicker\"},{\"id\":\"3619fca3-3d8c-4e0a-95f8-0e2ce3544c3e\",\"type\":\"MonthsTicker\"},{\"id\":\"8a773b94-6591-4801-9ae3-f57a2cf6de96\",\"type\":\"MonthsTicker\"},{\"id\":\"6b29dcfe-6395-41f8-845d-118735000091\",\"type\":\"YearsTicker\"}]},\"id\":\"35b3ca19-7b9c-426b-b677-93ab3a31adf0\",\"type\":\"DatetimeTicker\"},{\"attributes\":{\"months\":[0,1,2,3,4,5,6,7,8,9,10,11]},\"id\":\"0165878f-946f-470a-9816-2e1ebe40c1a7\",\"type\":\"MonthsTicker\"},{\"attributes\":{\"line_color\":\"#99d594\",\"x\":{\"field\":\"x\"},\"y\":{\"field\":\"y\"}},\"id\":\"883692cb-7cee-4d57-9ff2-515d5fd89c1a\",\"type\":\"Line\"},{\"attributes\":{\"days\":[1,15]},\"id\":\"8df1b40c-50ff-4f80-a5e2-0f1b6f8e5086\",\"type\":\"DaysTicker\"},{\"attributes\":{\"label\":{\"value\":\"near_surface_soil_saturation_degree\"},\"renderers\":[{\"id\":\"2354ea01-8334-4012-a821-3b0b20ed9917\",\"type\":\"GlyphRenderer\"}]},\"id\":\"9dd99c5a-1f80-4e3b-a045-64495986978a\",\"type\":\"LegendItem\"},{\"attributes\":{},\"id\":\"9ce3a0ff-306b-4467-a6d8-007ee8dc5b59\",\"type\":\"PanTool\"},{\"attributes\":{\"days\":[1,2,3,4,5,6,7,8,9,10,11,12,13,14,15,16,17,18,19,20,21,22,23,24,25,26,27,28,29,30,31]},\"id\":\"98d52d9e-b496-4216-895c-6feff64d9c46\",\"type\":\"DaysTicker\"},{\"attributes\":{\"months\":[0,2,4,6,8,10]},\"id\":\"d8bb518c-2380-402e-9a29-af2e3eeb0a19\",\"type\":\"MonthsTicker\"},{\"attributes\":{\"source\":{\"id\":\"653ec184-19d1-4439-b71e-ba3aded8b084\",\"type\":\"ColumnDataSource\"}},\"id\":\"919cd151-e6fc-41c7-b715-4b8ef053391c\",\"type\":\"CDSView\"},{\"attributes\":{\"days\":[1,4,7,10,13,16,19,22,25,28]},\"id\":\"d51409a8-38df-4b6c-9002-37a48e2572f4\",\"type\":\"DaysTicker\"},{\"attributes\":{\"data_source\":{\"id\":\"8df8612d-42f6-45bf-9953-e62a40f643b5\",\"type\":\"ColumnDataSource\"},\"glyph\":{\"id\":\"f092269a-c229-418c-8358-cd291c1c20b6\",\"type\":\"Line\"},\"hover_glyph\":null,\"muted_glyph\":null,\"nonselection_glyph\":{\"id\":\"9813e16c-441d-425b-8a7e-8eb476f77c6c\",\"type\":\"Line\"},\"selection_glyph\":null,\"view\":{\"id\":\"5ab7ccbc-bed3-40c1-8db5-3f3489d2b856\",\"type\":\"CDSView\"}},\"id\":\"1884e11b-f5f2-4a3a-a200-dab3f04e0316\",\"type\":\"GlyphRenderer\"},{\"attributes\":{\"line_color\":\"#e6f598\",\"x\":{\"field\":\"x\"},\"y\":{\"field\":\"y\"}},\"id\":\"f092269a-c229-418c-8358-cd291c1c20b6\",\"type\":\"Line\"},{\"attributes\":{\"bottom_units\":\"screen\",\"fill_alpha\":{\"value\":0.5},\"fill_color\":{\"value\":\"lightgrey\"},\"left_units\":\"screen\",\"level\":\"overlay\",\"line_alpha\":{\"value\":1.0},\"line_color\":{\"value\":\"black\"},\"line_dash\":[4,4],\"line_width\":{\"value\":2},\"plot\":null,\"render_mode\":\"css\",\"right_units\":\"screen\",\"top_units\":\"screen\"},\"id\":\"d25a2728-3ece-4104-82f0-adad810c042a\",\"type\":\"BoxAnnotation\"},{\"attributes\":{\"line_alpha\":0.1,\"line_color\":\"#1f77b4\",\"x\":{\"field\":\"x\"},\"y\":{\"field\":\"y\"}},\"id\":\"cc4eb05a-100e-4aec-a616-649ec787c97e\",\"type\":\"Line\"},{\"attributes\":{\"formatter\":{\"id\":\"8cc9bf59-61f4-4751-84fd-6ab455cd3a4c\",\"type\":\"DatetimeTickFormatter\"},\"plot\":{\"id\":\"9c189df0-1bc9-48fe-a09a-ac145fed66a9\",\"subtype\":\"Figure\",\"type\":\"Plot\"},\"ticker\":{\"id\":\"35b3ca19-7b9c-426b-b677-93ab3a31adf0\",\"type\":\"DatetimeTicker\"}},\"id\":\"af2b9d36-fd31-46d5-a2bf-ae6ad837aed6\",\"type\":\"DatetimeAxis\"},{\"attributes\":{},\"id\":\"739a3de8-554a-46a8-9103-af4bc974ffa0\",\"type\":\"ResetTool\"},{\"attributes\":{\"label\":{\"value\":\"total_evaporation\"},\"renderers\":[{\"id\":\"1884e11b-f5f2-4a3a-a200-dab3f04e0316\",\"type\":\"GlyphRenderer\"}]},\"id\":\"e67c23e4-109e-4384-a9e4-1f4aaadd2e1a\",\"type\":\"LegendItem\"},{\"attributes\":{\"line_alpha\":0.1,\"line_color\":\"#1f77b4\",\"x\":{\"field\":\"x\"},\"y\":{\"field\":\"y\"}},\"id\":\"9813e16c-441d-425b-8a7e-8eb476f77c6c\",\"type\":\"Line\"},{\"attributes\":{\"data_source\":{\"id\":\"22b67822-a702-42de-a6d7-4ae219cb2990\",\"type\":\"ColumnDataSource\"},\"glyph\":{\"id\":\"883692cb-7cee-4d57-9ff2-515d5fd89c1a\",\"type\":\"Line\"},\"hover_glyph\":null,\"muted_glyph\":null,\"nonselection_glyph\":{\"id\":\"cc4eb05a-100e-4aec-a616-649ec787c97e\",\"type\":\"Line\"},\"selection_glyph\":null,\"view\":{\"id\":\"6f16d219-80af-4690-a234-042dbb414a2e\",\"type\":\"CDSView\"}},\"id\":\"2354ea01-8334-4012-a821-3b0b20ed9917\",\"type\":\"GlyphRenderer\"},{\"attributes\":{\"dimension\":1,\"plot\":{\"id\":\"9c189df0-1bc9-48fe-a09a-ac145fed66a9\",\"subtype\":\"Figure\",\"type\":\"Plot\"},\"ticker\":{\"id\":\"9b45b4b9-5507-40cf-8a70-e4ba316afb31\",\"type\":\"BasicTicker\"}},\"id\":\"e76dc369-82ce-4e7c-8455-d673da035694\",\"type\":\"Grid\"},{\"attributes\":{\"items\":[{\"id\":\"711a019b-f458-44bb-b50c-2c470c3bb6e0\",\"type\":\"LegendItem\"},{\"id\":\"9dd99c5a-1f80-4e3b-a045-64495986978a\",\"type\":\"LegendItem\"},{\"id\":\"e67c23e4-109e-4384-a9e4-1f4aaadd2e1a\",\"type\":\"LegendItem\"}],\"plot\":{\"id\":\"9c189df0-1bc9-48fe-a09a-ac145fed66a9\",\"subtype\":\"Figure\",\"type\":\"Plot\"}},\"id\":\"225b90a5-7712-475f-9581-8ae0911a2787\",\"type\":\"Legend\"},{\"attributes\":{},\"id\":\"7a9f514c-a3cb-48b4-88b4-f2d89bdc752b\",\"type\":\"SaveTool\"},{\"attributes\":{},\"id\":\"f9958ef7-6421-4a41-a414-9ebbec9f4909\",\"type\":\"WheelZoomTool\"},{\"attributes\":{\"plot\":{\"id\":\"9c189df0-1bc9-48fe-a09a-ac145fed66a9\",\"subtype\":\"Figure\",\"type\":\"Plot\"},\"ticker\":{\"id\":\"35b3ca19-7b9c-426b-b677-93ab3a31adf0\",\"type\":\"DatetimeTicker\"}},\"id\":\"ef68b069-0ad9-422f-b57d-98b6a3757c2a\",\"type\":\"Grid\"},{\"attributes\":{\"callback\":null,\"column_names\":[\"x\",\"y\"],\"data\":{\"x\":[1511222400000.0,1511308800000.0,1511395200000.0,1511481600000.0,1511568000000.0,1511654400000.0,1511740800000.0,1511827200000.0,1511913600000.0],\"y\":{\"__ndarray__\":\"xy8nOsZFKTp4SDs6X1MqOtfeHzpgtuo5T0+2Oal/5zmyRS06\",\"dtype\":\"float32\",\"shape\":[9]}}},\"id\":\"8df8612d-42f6-45bf-9953-e62a40f643b5\",\"type\":\"ColumnDataSource\"},{\"attributes\":{},\"id\":\"a1c648e3-1e5a-4d2d-8922-b942f4120659\",\"type\":\"LinearScale\"},{\"attributes\":{\"line_color\":\"#3288bd\",\"x\":{\"field\":\"x\"},\"y\":{\"field\":\"y\"}},\"id\":\"9f039c87-15ba-41fc-96b3-dbd6bc445f43\",\"type\":\"Line\"},{\"attributes\":{\"base\":60,\"mantissas\":[1,2,5,10,15,20,30],\"max_interval\":1800000.0,\"min_interval\":1000.0,\"num_minor_ticks\":0},\"id\":\"4f646227-4b4f-4f3c-b3b8-ccc7e2c68268\",\"type\":\"AdaptiveTicker\"},{\"attributes\":{\"source\":{\"id\":\"8df8612d-42f6-45bf-9953-e62a40f643b5\",\"type\":\"ColumnDataSource\"}},\"id\":\"5ab7ccbc-bed3-40c1-8db5-3f3489d2b856\",\"type\":\"CDSView\"},{\"attributes\":{\"mantissas\":[1,2,5],\"max_interval\":500.0,\"num_minor_ticks\":0},\"id\":\"041a110d-b55f-45a8-8ee4-480d758ba098\",\"type\":\"AdaptiveTicker\"},{\"attributes\":{\"plot\":null,\"text\":\"\"},\"id\":\"2ee90226-48dc-4f07-8dbd-bbaf2d6e5f23\",\"type\":\"Title\"},{\"attributes\":{},\"id\":\"b7b0b2a2-b452-4a46-8f5a-60081d5781b4\",\"type\":\"HelpTool\"},{\"attributes\":{\"formatter\":{\"id\":\"2d007b43-1d9f-4690-8d25-0a672a4912a6\",\"type\":\"BasicTickFormatter\"},\"plot\":{\"id\":\"9c189df0-1bc9-48fe-a09a-ac145fed66a9\",\"subtype\":\"Figure\",\"type\":\"Plot\"},\"ticker\":{\"id\":\"9b45b4b9-5507-40cf-8a70-e4ba316afb31\",\"type\":\"BasicTicker\"}},\"id\":\"9587df08-a952-4708-b43c-7b7cfe44eca6\",\"type\":\"LinearAxis\"},{\"attributes\":{\"below\":[{\"id\":\"af2b9d36-fd31-46d5-a2bf-ae6ad837aed6\",\"type\":\"DatetimeAxis\"}],\"left\":[{\"id\":\"9587df08-a952-4708-b43c-7b7cfe44eca6\",\"type\":\"LinearAxis\"}],\"output_backend\":\"webgl\",\"renderers\":[{\"id\":\"af2b9d36-fd31-46d5-a2bf-ae6ad837aed6\",\"type\":\"DatetimeAxis\"},{\"id\":\"ef68b069-0ad9-422f-b57d-98b6a3757c2a\",\"type\":\"Grid\"},{\"id\":\"9587df08-a952-4708-b43c-7b7cfe44eca6\",\"type\":\"LinearAxis\"},{\"id\":\"e76dc369-82ce-4e7c-8455-d673da035694\",\"type\":\"Grid\"},{\"id\":\"d25a2728-3ece-4104-82f0-adad810c042a\",\"type\":\"BoxAnnotation\"},{\"id\":\"225b90a5-7712-475f-9581-8ae0911a2787\",\"type\":\"Legend\"},{\"id\":\"c7be3284-c53c-453e-9e88-a286da5cb4fd\",\"type\":\"GlyphRenderer\"},{\"id\":\"2354ea01-8334-4012-a821-3b0b20ed9917\",\"type\":\"GlyphRenderer\"},{\"id\":\"1884e11b-f5f2-4a3a-a200-dab3f04e0316\",\"type\":\"GlyphRenderer\"}],\"title\":{\"id\":\"2ee90226-48dc-4f07-8dbd-bbaf2d6e5f23\",\"type\":\"Title\"},\"toolbar\":{\"id\":\"db20c25c-ac50-4256-9922-e98fd86d8fe5\",\"type\":\"Toolbar\"},\"x_range\":{\"id\":\"7e3859d2-ec64-42d2-a420-3549e3d2c022\",\"type\":\"DataRange1d\"},\"x_scale\":{\"id\":\"e03d2a76-7478-4e96-9877-155db09f5e05\",\"type\":\"LinearScale\"},\"y_range\":{\"id\":\"c9aa9412-63e8-4726-92bc-8858ad07ee3c\",\"type\":\"DataRange1d\"},\"y_scale\":{\"id\":\"a1c648e3-1e5a-4d2d-8922-b942f4120659\",\"type\":\"LinearScale\"}},\"id\":\"9c189df0-1bc9-48fe-a09a-ac145fed66a9\",\"subtype\":\"Figure\",\"type\":\"Plot\"},{\"attributes\":{\"base\":24,\"mantissas\":[1,2,4,6,8,12],\"max_interval\":43200000.0,\"min_interval\":3600000.0,\"num_minor_ticks\":0},\"id\":\"2cd6aa72-be74-48c0-81ef-ad4c306fb71e\",\"type\":\"AdaptiveTicker\"},{\"attributes\":{\"callback\":null,\"column_names\":[\"x\",\"y\"],\"data\":{\"x\":[1511222400000.0,1511308800000.0,1511395200000.0,1511481600000.0,1511568000000.0,1511654400000.0,1511740800000.0,1511827200000.0,1511913600000.0],\"y\":{\"__ndarray__\":\"nqeaPzZOlT/JRpw/MDt8QABlREDXAQhALWvpP3ft4T9jiAVA\",\"dtype\":\"float32\",\"shape\":[9]}}},\"id\":\"653ec184-19d1-4439-b71e-ba3aded8b084\",\"type\":\"ColumnDataSource\"},{\"attributes\":{\"source\":{\"id\":\"22b67822-a702-42de-a6d7-4ae219cb2990\",\"type\":\"ColumnDataSource\"}},\"id\":\"6f16d219-80af-4690-a234-042dbb414a2e\",\"type\":\"CDSView\"},{\"attributes\":{\"callback\":null},\"id\":\"c9aa9412-63e8-4726-92bc-8858ad07ee3c\",\"type\":\"DataRange1d\"}],\"root_ids\":[\"9c189df0-1bc9-48fe-a09a-ac145fed66a9\"]},\"title\":\"Bokeh Application\",\"version\":\"0.12.14\"}};\n",
       "  var render_items = [{\"docid\":\"1c401b51-8a8f-49b0-a77a-3b74b71c8c68\",\"elementid\":\"a95ac0bb-a8f9-49cc-a561-a176f7caf6f0\",\"modelid\":\"9c189df0-1bc9-48fe-a09a-ac145fed66a9\"}];\n",
       "  root.Bokeh.embed.embed_items_notebook(docs_json, render_items);\n",
       "\n",
       "  }\n",
       "  if (root.Bokeh !== undefined) {\n",
       "    embed_document(root);\n",
       "  } else {\n",
       "    var attempts = 0;\n",
       "    var timer = setInterval(function(root) {\n",
       "      if (root.Bokeh !== undefined) {\n",
       "        embed_document(root);\n",
       "        clearInterval(timer);\n",
       "      }\n",
       "      attempts++;\n",
       "      if (attempts > 100) {\n",
       "        console.log(\"Bokeh: ERROR: Unable to run BokehJS code because BokehJS library is missing\")\n",
       "        clearInterval(timer);\n",
       "      }\n",
       "    }, 10, root)\n",
       "  }\n",
       "})(window);"
      ],
      "application/vnd.bokehjs_exec.v0+json": ""
     },
     "metadata": {
      "application/vnd.bokehjs_exec.v0+json": {
       "id": "9c189df0-1bc9-48fe-a09a-ac145fed66a9"
      }
     },
     "output_type": "display_data"
    }
   ],
   "source": [
    "p = figure(x_axis_type='datetime', output_backend=\"webgl\")\n",
    "[p.line(dts, cube.data, legend=cube.name(), color=Spectral6[i]) for i, cube in enumerate(cubes_of_loc)]\n",
    "show(p)"
   ]
  },
  {
   "cell_type": "code",
   "execution_count": null,
   "metadata": {},
   "outputs": [],
   "source": []
  }
 ],
 "metadata": {
  "kernelspec": {
   "display_name": "Python 3",
   "language": "python",
   "name": "python3"
  },
  "language_info": {
   "codemirror_mode": {
    "name": "ipython",
    "version": 3
   },
   "file_extension": ".py",
   "mimetype": "text/x-python",
   "name": "python",
   "nbconvert_exporter": "python",
   "pygments_lexer": "ipython3",
   "version": "3.6.4"
  }
 },
 "nbformat": 4,
 "nbformat_minor": 2
}
