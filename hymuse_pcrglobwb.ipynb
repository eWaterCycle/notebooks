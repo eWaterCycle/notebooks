{
 "cells": [
  {
   "cell_type": "code",
   "execution_count": 39,
   "metadata": {},
   "outputs": [],
   "source": [
    "import numpy\n",
    "from matplotlib import pyplot\n",
    "\n",
    "from ewatercycle.parametersetdb import build_from_urls\n",
    "\n",
    "from hymuse.units import units\n",
    "from hymuse.community.pcrglobwb.interface import PCRGlobWB"
   ]
  },
  {
   "cell_type": "code",
   "execution_count": 40,
   "metadata": {},
   "outputs": [],
   "source": [
    "parameter_set = build_from_urls(\n",
    "    config_format='ini', config_url='https://raw.githubusercontent.com/UU-Hydro/PCR-GLOBWB_input_example/master/RhineMeuse30min/ini_and_batch_files/rapid/setup_natural_test.ini',\n",
    "    datafiles_format='svn', datafiles_url='https://github.com/UU-Hydro/PCR-GLOBWB_input_example/trunk/RhineMeuse30min',\n",
    ")\n",
    "# parameter_set.save_datafiles('./input')"
   ]
  },
  {
   "cell_type": "code",
   "execution_count": 41,
   "metadata": {},
   "outputs": [],
   "source": [
    "parameter_set.config['globalOptions']['inputDir'] = '/data/input'\n",
    "parameter_set.config['globalOptions']['outputDir'] = '/data/output'\n",
    "parameter_set.save_config('config.cfg')"
   ]
  },
  {
   "cell_type": "code",
   "execution_count": 42,
   "metadata": {},
   "outputs": [],
   "source": [
    "p=PCRGlobWB(bmi_mode=\"grpc+docker\")"
   ]
  },
  {
   "cell_type": "code",
   "execution_count": 43,
   "metadata": {},
   "outputs": [
    {
     "name": "stdout",
     "output_type": "stream",
     "text": [
      "ini_file: config.cfg\n",
      "\n"
     ]
    }
   ],
   "source": [
    "p.parameters.ini_file=\"config.cfg\"\n",
    "print(p.parameters)"
   ]
  },
  {
   "cell_type": "code",
   "execution_count": 44,
   "metadata": {},
   "outputs": [
    {
     "name": "stdout",
     "output_type": "stream",
     "text": [
      "['grid_0']\n"
     ]
    }
   ],
   "source": [
    "p.commit_parameters()\n",
    "print(p.data_store_names())\n",
    "grid=p.grid_0"
   ]
  },
  {
   "cell_type": "code",
   "execution_count": 45,
   "metadata": {},
   "outputs": [
    {
     "name": "stdout",
     "output_type": "stream",
     "text": [
      "CartesianGrid (13 x 17) (accumulated_land_surface_baseflow, accumulated_land_surface_runoff, accumulated_total_surface_runoff, bare_soil_evaporation, baseflow, bottom_elevation_of_lowermost_layer, bottom_elevation_of_uppermost_layer, channel_storage, consumptive_water_use_for_irrigation_demand, consumptive_water_use_for_non_irrigation_demand, desalination_source_abstraction, desalination_source_abstraction_volume, direct_runoff, discharge, domesticWaterConsumptionVolume, domesticWaterWithdrawalVolume, domestic_water_withdrawal, evaporation_from_irrigation, evaporation_from_irrigation_volume, flood_innundation_depth, flood_innundation_volume, fossil_groundwater_abstraction, fossil_groundwater_storage, fraction_of_desalinated_water_allocation, fraction_of_non_fossil_groundwater_allocation, fraction_of_other_water_source_allocation, fraction_of_surface_water, fraction_of_surface_water_allocation, groundwater_capillary_rise, groundwater_depth_for_layer_1, groundwater_depth_for_layer_2, groundwater_depth_for_top_layer, groundwater_head_for_layer_1, groundwater_head_for_layer_2, groundwater_head_for_top_layer, groundwater_recharge, groundwater_storage, groundwater_thickness_estimate, groundwater_volume_estimate, industryWaterConsumptionVolume, industryWaterWithdrawalVolume, industry_water_withdrawal, infiltration, interception_evaporation, interception_storage, interflow, irrigationWaterWithdrawalVolume, irrigation_gross_demand, irrigation_gross_demand_volume, irrigation_withdrawal, lake_and_reservoir_storage, land_surface_actual_evaporation, land_surface_evaporation, land_surface_evaporation_fraction, land_surface_potential_evaporation, land_surface_runoff, land_surface_water_balance, lat, livestockWaterConsumptionVolume, livestockWaterWithdrawalVolume, livestock_water_withdrawal, local_water_body_flux, lon, lower_soil_saturation_degree, lower_soil_storage, lower_soil_transpiration, netLqWaterToSoil_at_irrigation, netLqWaterToSoil_at_irrigation_volume, net_liquid_water_to_soil, non_fossil_groundwater_abstraction, non_irrigation_gross_demand, non_irrigation_gross_demand_volume, non_paddy_irrigation_withdrawal, paddy_irrigation_withdrawal, precipitation, precipitation_at_irrigation, precipitation_at_irrigation_volume, reference_potential_evaporation, relativeGroundwaterHead, return_flow_from_groundwater_abstraction, return_flow_from_irrigation_demand_withdrawal, return_flow_from_non_irrigation_demand_withdrawal, snow_free_water, snow_free_water_evaporation, snow_melt, snow_water_equivalent, surface_water_abstraction, surface_water_abstraction_volume, surface_water_level, surface_water_storage, temperature, test, top_elevation_of_uppermost_layer, top_water_layer, top_water_layer_evaporation, totalPotentialMaximumGrossDemand, total_abstraction, total_evaporation, total_evaporation_fraction, total_fraction_water_allocation, total_gross_demand, total_gross_demand_volume, total_groundwater_abstraction, total_groundwater_abstraction_volume, total_groundwater_storage, total_runoff, total_thickness_of_active_water_storage, total_thickness_of_water_storage, total_transpiration, total_volume_of_water_storage, transpiration_from_irrigation, transpiration_from_irrigation_volume, upper_soil_saturation_degree, upper_soil_storage, upper_soil_transpiration, water_body_actual_evaporation, water_body_evaporation_fraction, water_body_potential_evaporation)\n",
      "[0.5, 0.5] deg\n"
     ]
    }
   ],
   "source": [
    "print(grid)\n",
    "print(grid.cellsize())\n",
    "minpos=grid.get_minimum_position()\n",
    "maxpos=grid.get_maximum_position()\n",
    "extent=[minpos[1].number,maxpos[1].number,minpos[0].number,maxpos[0].number]\n"
   ]
  },
  {
   "cell_type": "code",
   "execution_count": 46,
   "metadata": {},
   "outputs": [],
   "source": [
    "tbegin=p.model_time\n",
    "dt=p.time_step\n",
    "tend=tbegin+5*dt"
   ]
  },
  {
   "cell_type": "code",
   "execution_count": 47,
   "metadata": {},
   "outputs": [
    {
     "name": "stdout",
     "output_type": "stream",
     "text": [
      "1.0 day\n",
      "2.0 day\n",
      "3.0 day\n",
      "4.0 day\n",
      "5.0 day\n"
     ]
    }
   ],
   "source": [
    "while p.model_time<tend:\n",
    "    p.evolve_model(p.model_time+p.time_step)\n",
    "    print(p.model_time-tbegin)"
   ]
  },
  {
   "cell_type": "code",
   "execution_count": 48,
   "metadata": {},
   "outputs": [
    {
     "data": {
      "image/png": "[encoded data removed]",
      "text/plain": [
       "<Figure size 432x288 with 2 Axes>"
      ]
     },
     "metadata": {
      "needs_background": "light"
     },
     "output_type": "display_data"
    }
   ],
   "source": [
    "f=pyplot.figure()\n",
    "ussd=grid.upper_soil_saturation_degree\n",
    "pyplot.imshow(ussd.number, origin=\"lower\",vmin=0, vmax=1, extent=extent)\n",
    "pyplot.title(str(p.model_time-tbegin))\n",
    "cb=pyplot.colorbar()\n",
    "cb.set_label(\"upper soil saturation\")"
   ]
  },
  {
   "cell_type": "code",
   "execution_count": null,
   "metadata": {},
   "outputs": [],
   "source": []
  }
 ],
 "metadata": {
  "kernelspec": {
   "display_name": "Python 3",
   "language": "python",
   "name": "python3"
  },
  "language_info": {
   "codemirror_mode": {
    "name": "ipython",
    "version": 3
   },
   "file_extension": ".py",
   "mimetype": "text/x-python",
   "name": "python",
   "nbconvert_exporter": "python",
   "pygments_lexer": "ipython3",
   "version": "3.6.6"
  }
 },
 "nbformat": 4,
 "nbformat_minor": 2
}
