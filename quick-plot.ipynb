{
 "cells": [
  {
   "cell_type": "markdown",
   "metadata": {},
   "source": [
    "Plot something from an eWatercycle1 forecast output file."
   ]
  },
  {
   "cell_type": "code",
   "execution_count": null,
   "metadata": {},
   "outputs": [],
   "source": [
    "import warnings\n",
    "# Warnings make for ugly notebooks, ignore them\n",
    "warnings.filterwarnings('ignore')"
   ]
  },
  {
   "cell_type": "code",
   "execution_count": null,
   "metadata": {},
   "outputs": [],
   "source": [
    "import iris\n",
    "import iris.plot as iplt\n",
    "import matplotlib.pyplot as plt\n",
    "import numpy\n",
    "import dask"
   ]
  },
  {
   "cell_type": "code",
   "execution_count": null,
   "metadata": {},
   "outputs": [],
   "source": [
    "fn = 'data/2017-11-21/work01/output/netcdf/discharge_dailyTot_output.nc'"
   ]
  },
  {
   "cell_type": "code",
   "execution_count": null,
   "metadata": {},
   "outputs": [],
   "source": [
    "#dask.set_options(get=dask.threaded.get)\n"
   ]
  },
  {
   "cell_type": "code",
   "execution_count": null,
   "metadata": {},
   "outputs": [],
   "source": [
    "# Run dask in multiprocessing mode\n",
    "#from dask.multiprocessing import get\n",
    "#dask.set_options(get=get)"
   ]
  },
  {
   "cell_type": "code",
   "execution_count": null,
   "metadata": {},
   "outputs": [],
   "source": [
    "# Run dask in distributed mode\n",
    "# from dask.distributed import Client\n",
    "# client = Client()\n",
    "# dask.set_options(get=client.get)\n",
    "# client"
   ]
  },
  {
   "cell_type": "markdown",
   "metadata": {},
   "source": [
    "# Contour plot timings\n",
    "\n",
    "## default\n",
    "\n",
    "CPU times: user 21.3 s, sys: 5.1 s, total: 26.4 s\n",
    "Wall time: 24.2 s\n",
    "\n",
    "## threaded\n",
    "\n",
    "CPU times: user 21.7 s, sys: 4.79 s, total: 26.5 s\n",
    "Wall time: 24.3 s\n",
    "\n",
    "First couple of seconds Python process is ~140% then drops to 100%.\n",
    "\n",
    "## multiprocessing\n",
    "\n",
    "CPU times: user 21.8 s, sys: 8.24 s, total: 30.1 s\n",
    "Wall time: 40.6 s\n",
    "\n",
    "First couple of seconds 3 Python processes at ~50% then single process at 100%\n",
    "\n",
    "## distributed single vm\n",
    "\n",
    "CPU times: user 21.6 s, sys: 2.67 s, total: 24.3 s\n",
    "Wall time: 33.3 s\n",
    "\n",
    "Same cpu usage as multiprocessing"
   ]
  },
  {
   "cell_type": "code",
   "execution_count": null,
   "metadata": {},
   "outputs": [],
   "source": [
    "cube = iris.load_cube(fn)"
   ]
  },
  {
   "cell_type": "code",
   "execution_count": null,
   "metadata": {},
   "outputs": [],
   "source": [
    "cube"
   ]
  },
  {
   "cell_type": "code",
   "execution_count": null,
   "metadata": {},
   "outputs": [],
   "source": [
    "print(cube)"
   ]
  },
  {
   "cell_type": "code",
   "execution_count": null,
   "metadata": {},
   "outputs": [],
   "source": [
    "%matplotlib inline"
   ]
  },
  {
   "cell_type": "code",
   "execution_count": null,
   "metadata": {},
   "outputs": [],
   "source": [
    "clim = cube.collapsed('time', iris.analysis.MEAN)"
   ]
  },
  {
   "cell_type": "code",
   "execution_count": null,
   "metadata": {},
   "outputs": [],
   "source": [
    "print(clim)"
   ]
  },
  {
   "cell_type": "code",
   "execution_count": null,
   "metadata": {},
   "outputs": [],
   "source": [
    "fig = plt.figure(figsize=[30,15])\n",
    "%time iplt.contourf(clim, levels=numpy.arange(0, 10), extend='max')\n"
   ]
  },
  {
   "cell_type": "code",
   "execution_count": null,
   "metadata": {},
   "outputs": [],
   "source": [
    "cube.coords()"
   ]
  },
  {
   "cell_type": "code",
   "execution_count": null,
   "metadata": {},
   "outputs": [],
   "source": []
  }
 ],
 "metadata": {
  "kernelspec": {
   "display_name": "Python 3",
   "language": "python",
   "name": "python3"
  },
  "language_info": {
   "codemirror_mode": {
    "name": "ipython",
    "version": 3
   },
   "file_extension": ".py",
   "mimetype": "text/x-python",
   "name": "python",
   "nbconvert_exporter": "python",
   "pygments_lexer": "ipython3",
   "version": "3.6.5"
  }
 },
 "nbformat": 4,
 "nbformat_minor": 2
}
