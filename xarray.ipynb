{
 "cells": [
  {
   "cell_type": "markdown",
   "metadata": {},
   "source": [
    "Get input dir by\n",
    "```bash\n",
    "svn co https://github.com/UU-Hydro/PCR-GLOBWB_input_example/trunk/RhineMeuse30min input\n",
    "```"
   ]
  },
  {
   "cell_type": "code",
   "execution_count": null,
   "metadata": {},
   "outputs": [],
   "source": [
    "import xarray as xa"
   ]
  },
  {
   "cell_type": "code",
   "execution_count": 4,
   "metadata": {},
   "outputs": [],
   "source": [
    "cube = xa.open_dataset('input/landSurface/soilPropertiesRhineMeuse30min.nc')"
   ]
  },
  {
   "cell_type": "code",
   "execution_count": 15,
   "metadata": {},
   "outputs": [
    {
     "ename": "ValueError",
     "evalue": "Given file dataset contains more than one data variable. Please read with xarray.open_dataset and then select the variable you want.",
     "output_type": "error",
     "traceback": [
      "\u001b[0;31m---------------------------------------------------------------------------\u001b[0m",
      "\u001b[0;31mValueError\u001b[0m                                Traceback (most recent call last)",
      "\u001b[0;32m<ipython-input-15-dca165834e8d>\u001b[0m in \u001b[0;36m<module>\u001b[0;34m()\u001b[0m\n\u001b[0;32m----> 1\u001b[0;31m \u001b[0mxa\u001b[0m\u001b[0;34m.\u001b[0m\u001b[0mopen_dataarray\u001b[0m\u001b[0;34m(\u001b[0m\u001b[0;34m'input/landSurface/soilPropertiesRhineMeuse30min.nc'\u001b[0m\u001b[0;34m)\u001b[0m\u001b[0;34m\u001b[0m\u001b[0m\n\u001b[0m",
      "\u001b[0;32m/opt/conda/lib/python3.6/site-packages/xarray/backends/api.py\u001b[0m in \u001b[0;36mopen_dataarray\u001b[0;34m(filename_or_obj, group, decode_cf, mask_and_scale, decode_times, autoclose, concat_characters, decode_coords, engine, chunks, lock, cache, drop_variables, backend_kwargs)\u001b[0m\n\u001b[1;32m    456\u001b[0m \u001b[0;34m\u001b[0m\u001b[0m\n\u001b[1;32m    457\u001b[0m     \u001b[0;32mif\u001b[0m \u001b[0mlen\u001b[0m\u001b[0;34m(\u001b[0m\u001b[0mdataset\u001b[0m\u001b[0;34m.\u001b[0m\u001b[0mdata_vars\u001b[0m\u001b[0;34m)\u001b[0m \u001b[0;34m!=\u001b[0m \u001b[0;36m1\u001b[0m\u001b[0;34m:\u001b[0m\u001b[0;34m\u001b[0m\u001b[0m\n\u001b[0;32m--> 458\u001b[0;31m         raise ValueError('Given file dataset contains more than one data '\n\u001b[0m\u001b[1;32m    459\u001b[0m                          \u001b[0;34m'variable. Please read with xarray.open_dataset and '\u001b[0m\u001b[0;34m\u001b[0m\u001b[0m\n\u001b[1;32m    460\u001b[0m                          'then select the variable you want.')\n",
      "\u001b[0;31mValueError\u001b[0m: Given file dataset contains more than one data variable. Please read with xarray.open_dataset and then select the variable you want."
     ]
    }
   ],
   "source": [
    "xa.open_dataarray('input/landSurface/soilPropertiesRhineMeuse30min.nc')"
   ]
  },
  {
   "cell_type": "code",
   "execution_count": 5,
   "metadata": {},
   "outputs": [
    {
     "data": {
      "text/plain": [
       "<xarray.Dataset>\n",
       "Dimensions:               (lat: 13, lon: 17)\n",
       "Coordinates:\n",
       "  * lat                   (lat) float32 52.25 51.75 51.25 50.75 50.25 49.75 ...\n",
       "  * lon                   (lon) float32 3.75 4.25 4.75 5.25 5.75 6.25 6.75 ...\n",
       "Data variables:\n",
       "    firstStorDepth        (lat, lon) float32 ...\n",
       "    secondStorDepth       (lat, lon) float32 ...\n",
       "    soilWaterStorageCap1  (lat, lon) float32 ...\n",
       "    soilWaterStorageCap2  (lat, lon) float32 ...\n",
       "    airEntryValue1        (lat, lon) float32 ...\n",
       "    airEntryValue2        (lat, lon) float32 ...\n",
       "    poreSizeBeta1         (lat, lon) float32 ...\n",
       "    poreSizeBeta2         (lat, lon) float32 ...\n",
       "    resVolWC1             (lat, lon) float32 ...\n",
       "    resVolWC2             (lat, lon) float32 ...\n",
       "    satVolWC1             (lat, lon) float32 ...\n",
       "    satVolWC2             (lat, lon) float32 ...\n",
       "    KSat1                 (lat, lon) float32 ...\n",
       "    KSat2                 (lat, lon) float32 ...\n",
       "    percolationImp        (lat, lon) float32 ...\n",
       "Attributes:\n",
       "    comment:      Converted from 'exampleData' in the gitHUB 'eWaterCyle' (da...\n",
       "    description:  None\n",
       "    title:        None\n",
       "    source:       None\n",
       "    references:   None\n",
       "    institution:  None\n",
       "    history:      None"
      ]
     },
     "execution_count": 5,
     "metadata": {},
     "output_type": "execute_result"
    }
   ],
   "source": [
    "cube"
   ]
  },
  {
   "cell_type": "code",
   "execution_count": 9,
   "metadata": {},
   "outputs": [
    {
     "data": {
      "text/plain": [
       "<xarray.DataArray 'coverFractionInput' (time: 366, lat: 13, lon: 17)>\n",
       "array([[[0.      , 0.256901, ..., 0.087415, 0.035985],\n",
       "        [0.198959, 0.219139, ..., 0.065359, 0.175467],\n",
       "        ...,\n",
       "        [0.255882, 0.261662, ..., 0.243219, 0.284086],\n",
       "        [0.22649 , 0.254516, ..., 0.189713, 0.296272]],\n",
       "\n",
       "       [[0.      , 0.256901, ..., 0.087415, 0.035985],\n",
       "        [0.198959, 0.219139, ..., 0.065359, 0.175467],\n",
       "        ...,\n",
       "        [0.255882, 0.261662, ..., 0.243219, 0.284086],\n",
       "        [0.22649 , 0.254516, ..., 0.189713, 0.296272]],\n",
       "\n",
       "       ...,\n",
       "\n",
       "       [[0.      , 0.256901, ..., 0.087415, 0.035985],\n",
       "        [0.198959, 0.219139, ..., 0.068993, 0.175467],\n",
       "        ...,\n",
       "        [0.255882, 0.261662, ..., 0.243219, 0.284086],\n",
       "        [0.22649 , 0.254516, ..., 0.189713, 0.296272]],\n",
       "\n",
       "       [[0.      , 0.256901, ..., 0.087415, 0.035985],\n",
       "        [0.198959, 0.219139, ..., 0.065359, 0.175467],\n",
       "        ...,\n",
       "        [0.255882, 0.261662, ..., 0.243219, 0.284086],\n",
       "        [0.22649 , 0.254516, ..., 0.189713, 0.296272]]], dtype=float32)\n",
       "Coordinates:\n",
       "  * lon      (lon) float32 3.75 4.25 4.75 5.25 5.75 6.25 6.75 7.25 7.75 8.25 ...\n",
       "  * lat      (lat) float32 52.25 51.75 51.25 50.75 50.25 49.75 49.25 48.75 ...\n",
       "  * time     (time) datetime64[ns] 2004-01-01 2004-01-02 2004-01-03 ...\n",
       "Attributes:\n",
       "    standard_name:  cFrac\n",
       "    long_name:      cFrac\n",
       "    units:          undefined"
      ]
     },
     "execution_count": 9,
     "metadata": {},
     "output_type": "execute_result"
    }
   ],
   "source": [
    "xa.open_dataarray('input/landCover/forest/coverFraction_forest_daily366.nc')"
   ]
  },
  {
   "cell_type": "code",
   "execution_count": 11,
   "metadata": {},
   "outputs": [],
   "source": [
    "cube = xa.open_mfdataset(('input/landCover/forest/coverFraction_forest_daily366.nc', 'input/landCover/forest/cropKC_forest_daily366.nc'))"
   ]
  },
  {
   "cell_type": "code",
   "execution_count": 12,
   "metadata": {},
   "outputs": [
    {
     "data": {
      "text/plain": [
       "<xarray.Dataset>\n",
       "Dimensions:             (lat: 13, lon: 17, time: 366)\n",
       "Coordinates:\n",
       "  * lon                 (lon) float32 3.75 4.25 4.75 5.25 5.75 6.25 6.75 ...\n",
       "  * lat                 (lat) float32 52.25 51.75 51.25 50.75 50.25 49.75 ...\n",
       "  * time                (time) datetime64[ns] 2004-01-01 2004-01-02 ...\n",
       "Data variables:\n",
       "    coverFractionInput  (time, lat, lon) float32 dask.array<shape=(366, 13, 17), chunksize=(366, 13, 17)>\n",
       "    kc                  (time, lat, lon) float32 dask.array<shape=(366, 13, 17), chunksize=(366, 13, 17)>\n",
       "Attributes:\n",
       "    CDI:          Climate Data Interface version 1.6.2 (http://code.zmaw.de/p...\n",
       "    Conventions:  CF-1.4\n",
       "    history:      Fri Nov 01 16:56:21 2013: cdo selyear,2004 -chname,cFrac,co...\n",
       "    institution:  DFG Utrecht University\n",
       "    description:  test version (by Edwin H. Sutanudjaja)\n",
       "    title:        eWaterCycle model output\n",
       "    CDO:          Climate Data Operators version 1.6.2rc5 (http://code.zmaw.d..."
      ]
     },
     "execution_count": 12,
     "metadata": {},
     "output_type": "execute_result"
    }
   ],
   "source": [
    "cube"
   ]
  },
  {
   "cell_type": "code",
   "execution_count": 13,
   "metadata": {},
   "outputs": [],
   "source": [
    "cube = xa.open_mfdataset(('input/landSurface/soilPropertiesRhineMeuse30min.nc', 'input/landCover/forest/cropKC_forest_daily366.nc'))"
   ]
  },
  {
   "cell_type": "code",
   "execution_count": 14,
   "metadata": {},
   "outputs": [
    {
     "data": {
      "text/plain": [
       "<xarray.Dataset>\n",
       "Dimensions:               (lat: 13, lon: 17, time: 366)\n",
       "Coordinates:\n",
       "  * lat                   (lat) float32 52.25 51.75 51.25 50.75 50.25 49.75 ...\n",
       "  * lon                   (lon) float32 3.75 4.25 4.75 5.25 5.75 6.25 6.75 ...\n",
       "  * time                  (time) datetime64[ns] 2004-01-01 2004-01-02 ...\n",
       "Data variables:\n",
       "    firstStorDepth        (lat, lon) float32 dask.array<shape=(13, 17), chunksize=(13, 17)>\n",
       "    secondStorDepth       (lat, lon) float32 dask.array<shape=(13, 17), chunksize=(13, 17)>\n",
       "    soilWaterStorageCap1  (lat, lon) float32 dask.array<shape=(13, 17), chunksize=(13, 17)>\n",
       "    soilWaterStorageCap2  (lat, lon) float32 dask.array<shape=(13, 17), chunksize=(13, 17)>\n",
       "    airEntryValue1        (lat, lon) float32 dask.array<shape=(13, 17), chunksize=(13, 17)>\n",
       "    airEntryValue2        (lat, lon) float32 dask.array<shape=(13, 17), chunksize=(13, 17)>\n",
       "    poreSizeBeta1         (lat, lon) float32 dask.array<shape=(13, 17), chunksize=(13, 17)>\n",
       "    poreSizeBeta2         (lat, lon) float32 dask.array<shape=(13, 17), chunksize=(13, 17)>\n",
       "    resVolWC1             (lat, lon) float32 dask.array<shape=(13, 17), chunksize=(13, 17)>\n",
       "    resVolWC2             (lat, lon) float32 dask.array<shape=(13, 17), chunksize=(13, 17)>\n",
       "    satVolWC1             (lat, lon) float32 dask.array<shape=(13, 17), chunksize=(13, 17)>\n",
       "    satVolWC2             (lat, lon) float32 dask.array<shape=(13, 17), chunksize=(13, 17)>\n",
       "    KSat1                 (lat, lon) float32 dask.array<shape=(13, 17), chunksize=(13, 17)>\n",
       "    KSat2                 (lat, lon) float32 dask.array<shape=(13, 17), chunksize=(13, 17)>\n",
       "    percolationImp        (lat, lon) float32 dask.array<shape=(13, 17), chunksize=(13, 17)>\n",
       "    kc                    (time, lat, lon) float32 dask.array<shape=(366, 13, 17), chunksize=(366, 13, 17)>\n",
       "Attributes:\n",
       "    comment:      Converted from 'exampleData' in the gitHUB 'eWaterCyle' (da...\n",
       "    description:  None\n",
       "    title:        None\n",
       "    source:       None\n",
       "    references:   None\n",
       "    institution:  None\n",
       "    history:      None"
      ]
     },
     "execution_count": 14,
     "metadata": {},
     "output_type": "execute_result"
    }
   ],
   "source": [
    "cube\n"
   ]
  },
  {
   "cell_type": "code",
   "execution_count": null,
   "metadata": {},
   "outputs": [],
   "source": []
  }
 ],
 "metadata": {
  "kernelspec": {
   "display_name": "Python 3",
   "language": "python",
   "name": "python3"
  },
  "language_info": {
   "codemirror_mode": {
    "name": "ipython",
    "version": 3
   },
   "file_extension": ".py",
   "mimetype": "text/x-python",
   "name": "python",
   "nbconvert_exporter": "python",
   "pygments_lexer": "ipython3",
   "version": "3.6.5"
  }
 },
 "nbformat": 4,
 "nbformat_minor": 2
}
