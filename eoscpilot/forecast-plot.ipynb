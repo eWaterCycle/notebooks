{
 "cells": [
  {
   "cell_type": "code",
   "execution_count": null,
   "metadata": {},
   "outputs": [],
   "source": [
    "import xarray as xr\n",
    "import pandas as pd\n",
    "import numpy as np\n",
    "import glob\n",
    "import holoviews as hv\n",
    "import geoviews as gv\n",
    "import geoviews.feature as gf\n",
    "import geoviews.tile_sources as gts\n",
    "from cartopy import crs\n",
    "import dask"
   ]
  },
  {
   "cell_type": "code",
   "execution_count": null,
   "metadata": {},
   "outputs": [],
   "source": [
    "gv.extension('bokeh')\n",
    "%output size=300"
   ]
  },
  {
   "cell_type": "code",
   "execution_count": null,
   "metadata": {},
   "outputs": [],
   "source": [
    "dask.config.set(scheduler='threaded')"
   ]
  },
  {
   "cell_type": "code",
   "execution_count": null,
   "metadata": {},
   "outputs": [],
   "source": [
    "rsync -v --progress  --exclude provenance -a /mnt/oneclient/eWaterCycle/forecast-results/forecasts ~/"
   ]
  },
  {
   "cell_type": "code",
   "execution_count": null,
   "metadata": {},
   "outputs": [],
   "source": [
    "files = glob.glob('/mnt/home/student1/forecasts/20181106/member*-discharge_dailyTot_output.nc')"
   ]
  },
  {
   "cell_type": "code",
   "execution_count": null,
   "metadata": {},
   "outputs": [],
   "source": [
    "ensemble_members = [xr.open_dataset(fn) for fn in files]"
   ]
  },
  {
   "cell_type": "code",
   "execution_count": null,
   "metadata": {},
   "outputs": [],
   "source": [
    "ds = xr.concat(ensemble_members, pd.Index(range(1,21), name='ensemble_id'))"
   ]
  },
  {
   "cell_type": "code",
   "execution_count": 14,
   "metadata": {},
   "outputs": [
    {
     "data": {
      "text/plain": [
       "<xarray.Dataset>\n",
       "Dimensions:      (ensemble_id: 20, lat: 360, lon: 720, time: 9)\n",
       "Coordinates:\n",
       "  * time         (time) datetime64[ns] 2018-11-06 2018-11-07 2018-11-08 ...\n",
       "  * lat          (lat) float32 89.75 89.25 88.75 88.25 87.75 87.25 86.75 ...\n",
       "  * lon          (lon) float32 -179.75 -179.25 -178.75 -178.25 -177.75 ...\n",
       "  * ensemble_id  (ensemble_id) int64 1 2 3 4 5 6 7 8 9 10 11 12 13 14 15 16 ...\n",
       "Data variables:\n",
       "    discharge    (ensemble_id, time, lat, lon) float32 nan nan nan nan nan ...\n",
       "Attributes:\n",
       "    description:  test version (by Niels Drost)\n",
       "    institution:  Department of Physical Geography, Utrecht University\n",
       "    title:        PCR-GLOBWB output"
      ]
     },
     "execution_count": 14,
     "metadata": {},
     "output_type": "execute_result"
    }
   ],
   "source": [
    "ds"
   ]
  },
  {
   "cell_type": "code",
   "execution_count": null,
   "metadata": {},
   "outputs": [],
   "source": [
    "dataset = gv.Dataset(ds.where(ds.discharge > 100))"
   ]
  },
  {
   "cell_type": "code",
   "execution_count": null,
   "metadata": {},
   "outputs": [],
   "source": [
    "# Discharge over time plot bewlo for the green dot in the map\n",
    "point = (-60.25, -10.25)"
   ]
  },
  {
   "cell_type": "code",
   "execution_count": null,
   "metadata": {},
   "outputs": [],
   "source": [
    "gts.CartoMidnight * dataset.select(ensemble_id=1).to(gv.Image, ['lon', 'lat']).options(tools=['hover']) * gv.Points(point, crs=crs.PlateCarree()).options(color='green')"
   ]
  },
  {
   "cell_type": "code",
   "execution_count": null,
   "metadata": {},
   "outputs": [],
   "source": [
    "point_ds = gv.Dataset(ds).select(lon=point[0], lat=point[1])\n",
    "point_ds.to(hv.Curve).reindex().overlay() * hv.ErrorBars(point_ds.aggregate('time', np.mean, np.std))\n"
   ]
  },
  {
   "cell_type": "code",
   "execution_count": null,
   "metadata": {},
   "outputs": [],
   "source": []
  }
 ],
 "metadata": {
  "kernelspec": {
   "display_name": "Python 3",
   "language": "python",
   "name": "python3"
  },
  "language_info": {
   "codemirror_mode": {
    "name": "ipython",
    "version": 3
   },
   "file_extension": ".py",
   "mimetype": "text/x-python",
   "name": "python",
   "nbconvert_exporter": "python",
   "pygments_lexer": "ipython3",
   "version": "3.5.2"
  }
 },
 "nbformat": 4,
 "nbformat_minor": 2
}
