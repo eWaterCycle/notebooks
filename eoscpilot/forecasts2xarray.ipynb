{
 "cells": [
  {
   "cell_type": "code",
   "execution_count": null,
   "metadata": {},
   "outputs": [],
   "source": [
    "import xarray as xr\n",
    "import pandas as pd\n",
    "import numpy as np\n",
    "import glob\n",
    "import holoviews as hv\n",
    "import geoviews as gv\n",
    "import geoviews.feature as gf\n",
    "import geoviews.tile_sources as gts\n",
    "from cartopy import crs\n",
    "import re\n",
    "from datetime import datetime"
   ]
  },
  {
   "cell_type": "code",
   "execution_count": null,
   "metadata": {},
   "outputs": [],
   "source": [
    "gv.extension('bokeh')\n",
    "%output size=300"
   ]
  },
  {
   "cell_type": "code",
   "execution_count": null,
   "metadata": {},
   "outputs": [],
   "source": [
    "rsync -v --progress  --exclude provenance -a /mnt/oneclient/eWaterCycle/forecast-results/forecasts ~/"
   ]
  },
  {
   "cell_type": "code",
   "execution_count": null,
   "metadata": {},
   "outputs": [],
   "source": [
    "files = glob.glob('/mnt/home/student1/forecasts/*/member*-discharge_dailyTot_output.nc')"
   ]
  },
  {
   "cell_type": "code",
   "execution_count": null,
   "metadata": {},
   "outputs": [],
   "source": [
    "ensemble_members = [xr.open_dataset(fn) for fn in files]"
   ]
  },
  {
   "cell_type": "code",
   "execution_count": null,
   "metadata": {},
   "outputs": [],
   "source": [
    "forecast_files = {}\n",
    "for fn in files:\n",
    "    (y, m, d, ensembl_id) = re.search(r'forecasts/(\\d{4})(\\d{2})(\\d{2})/member(.+)-', fn).groups()\n",
    "    ensembl_id = int(ensembl_id)\n",
    "    forecast = datetime(int(y), int(m) ,int(d))\n",
    "    if forecast in forecast_files:\n",
    "        forecast_files[forecast][ensembl_id] = xr.open_dataset(fn)\n",
    "    else:\n",
    "        forecast_files[forecast] = {ensembl_id: xr.open_dataset(fn)}"
   ]
  },
  {
   "cell_type": "code",
   "execution_count": null,
   "metadata": {},
   "outputs": [],
   "source": [
    "forecasts = []\n",
    "forecasts_startdates = []\n",
    "for dt, ensemble_members in forecast_files.items():\n",
    "    ensemble = xr.concat(ensemble_members.values(), pd.Index(ensemble_members.keys(), name='ensemble_id'))\n",
    "    forecasts.append(ensemble)\n",
    "    forecasts_startdates.append(dt)"
   ]
  },
  {
   "cell_type": "code",
   "execution_count": null,
   "metadata": {},
   "outputs": [],
   "source": [
    "ds = xr.concat(forecasts, pd.Index(forecasts_startdates, name='forecast'))"
   ]
  },
  {
   "cell_type": "code",
   "execution_count": 59,
   "metadata": {},
   "outputs": [
    {
     "data": {
      "text/plain": [
       "<xarray.Dataset>\n",
       "Dimensions:      (ensemble_id: 20, forecast: 8, lat: 360, lon: 720, time: 16)\n",
       "Coordinates:\n",
       "  * time         (time) datetime64[ns] 2018-11-01 2018-11-02 2018-11-03 ...\n",
       "  * lat          (lat) float32 89.75 89.25 88.75 88.25 87.75 87.25 86.75 ...\n",
       "  * lon          (lon) float32 -179.75 -179.25 -178.75 -178.25 -177.75 ...\n",
       "  * ensemble_id  (ensemble_id) int64 1 2 3 4 5 6 7 8 9 10 11 12 13 14 15 16 ...\n",
       "  * forecast     (forecast) datetime64[ns] 2018-11-05 2018-11-07 2018-11-08 ...\n",
       "Data variables:\n",
       "    discharge    (forecast, ensemble_id, time, lat, lon) float32 nan nan nan ...\n",
       "Attributes:\n",
       "    description:  test version (by Niels Drost)\n",
       "    institution:  Department of Physical Geography, Utrecht University\n",
       "    title:        PCR-GLOBWB output"
      ]
     },
     "execution_count": 59,
     "metadata": {},
     "output_type": "execute_result"
    }
   ],
   "source": [
    "ds"
   ]
  },
  {
   "cell_type": "code",
   "execution_count": null,
   "metadata": {},
   "outputs": [],
   "source": []
  }
 ],
 "metadata": {
  "kernelspec": {
   "display_name": "Python 3",
   "language": "python",
   "name": "python3"
  },
  "language_info": {
   "codemirror_mode": {
    "name": "ipython",
    "version": 3
   },
   "file_extension": ".py",
   "mimetype": "text/x-python",
   "name": "python",
   "nbconvert_exporter": "python",
   "pygments_lexer": "ipython3",
   "version": "3.5.2"
  }
 },
 "nbformat": 4,
 "nbformat_minor": 2
}
